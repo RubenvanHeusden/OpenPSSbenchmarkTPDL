{
 "cells": [
  {
   "cell_type": "markdown",
   "id": "453420cf-6f89-4b74-8f68-eee2c7369909",
   "metadata": {},
   "source": [
    "# Experiments Using the Ruptures package"
   ]
  },
  {
   "cell_type": "markdown",
   "id": "d6f0cbac-00e0-4e4c-b35d-1bf99eda2ba2",
   "metadata": {},
   "source": [
    "In this notebook we will experiment with several models from the [Ruptures](https://centre-borelli.github.io/ruptures-docs/) python package, which has several implemented methods for offline change point detection, wich can be used for Page Stream Segmentation. We will experiment with both the situation in which k is known, and the setting in which k is unknown. We will run experiments on the debug dataset, as well as on the D1 and D2 datasets. Because these methods are not trained, there is no real point in doing robustness experiments, but they will be evaluated on the other methods in the main results section of the paper."
   ]
  },
  {
   "cell_type": "markdown",
   "id": "2ad621c8-8ef3-462e-ae62-79552c8c5c3f",
   "metadata": {
    "tags": []
   },
   "source": [
    "## Index\n",
    "- 1. [Loading in the data](#dataloading)\n",
    "- 2. [Implementing the methods](#methods)\n",
    "- 3. [Using Different vectors Types](#different_vector_types)"
   ]
  },
  {
   "cell_type": "markdown",
   "id": "d86ef4f8-1158-4d8f-bc4e-1a1c8522d495",
   "metadata": {},
   "source": [
    "## Different models in the Ruptures package\n",
    "\n",
    "There are various algorithms implemented in the Ruptures package, with some distinctions between the different models. If we are dealing with a setting where we know the number of change-points, then we can use a method such as Dynamic Progrom to do the detection. However, if we have a situation where we do not know the number of changepoints in advance, we rely on different methods such as Pelt with a known cost function (see next paragraph). There are also various methods that can handle both situations such as Binary Segmentation and Bottom Up Segmentation.\n",
    "\n",
    "Apart from the  different options depending on the availability of K, the cost function is also an important choice in the Ruptures package. Following the examples for text segmentation from the Ruptures, package, we implement the Cosine Similarity as the similarity measure between different points / pages in our signal. This similarity can then be used as a cost for finding the optimal segmentation."
   ]
  },
  {
   "cell_type": "markdown",
   "id": "61309b32-0091-4b3b-bb90-cc272856fdb8",
   "metadata": {},
   "source": [
    "<a id=\"dataloading\">"
   ]
  },
  {
   "cell_type": "markdown",
   "id": "4c51b8ec-4198-45f8-b430-5c07de6a9a9e",
   "metadata": {},
   "source": [
    "## Loading in the data"
   ]
  },
  {
   "cell_type": "code",
   "execution_count": 1,
   "id": "1da58d3a-0d52-4934-968a-df8e9e69f9aa",
   "metadata": {},
   "outputs": [],
   "source": [
    "import os\n",
    "from glob import glob\n",
    "from tqdm import tqdm\n",
    "import pandas as pd\n",
    "import numpy as np\n",
    "\n",
    "import ruptures\n",
    "from ruptures.base import BaseCost\n",
    "from sklearn.metrics.pairwise import cosine_similarity\n",
    "from sklearn.feature_extraction.text import TfidfVectorizer, CountVectorizer\n",
    "\n",
    "%run metricutils.py"
   ]
  },
  {
   "cell_type": "code",
   "execution_count": 4,
   "id": "9204a87c-6dce-4cb2-9433-1339da5af2f3",
   "metadata": {},
   "outputs": [],
   "source": [
    "# We first experiment with the debug dataset, as it is much smaller than the other two datasets.\n",
    "# We will load in the data of the other datasets as well.\n",
    "D1_train = pd.read_csv('../resources/datasets/LONG/dataframes/train.csv')\n",
    "D1_test = pd.read_csv('../resources/datasets/LONG/dataframes/test.csv')\n",
    "\n",
    "D2_train = pd.read_csv('../resources/datasets/SHORT/dataframes/train.csv')\n",
    "D2_test = pd.read_csv('../resources/datasets/SHORT/dataframes/test.csv')"
   ]
  },
  {
   "cell_type": "markdown",
   "id": "bbf333c5-3cc8-4578-8b5c-b01fb12b3ed7",
   "metadata": {},
   "source": [
    "### Known-K segmentation"
   ]
  },
  {
   "cell_type": "markdown",
   "id": "2fe6af74-fb15-4bf7-b27f-92bb3019a29f",
   "metadata": {},
   "source": [
    "In the case that the number of changepoints is known, we can make use of Dynamic Programming to get the optimal segmentation. In our case we are using cosine similarity, so we want to find the segmentation that minimizes the sum of segment costs. Because we use sparse vectors and the standard CosineCost in ruptures does not exploit this (slowing down the process quite a bit), we reimplement the cost function to make it more suited for our specific example."
   ]
  },
  {
   "cell_type": "markdown",
   "id": "ad720bf7-5e1b-4b97-a15d-e4846c402305",
   "metadata": {},
   "source": [
    "### Unknown Segmentation"
   ]
  },
  {
   "cell_type": "markdown",
   "id": "346628da-8d44-439b-b3db-cdaba4a1b57f",
   "metadata": {},
   "source": [
    "In the case where we do not know the number of segments in advance, we will have to use different methods, such as the Pelt Segmentation algorithm, or different methods such as Binary Segmentation or Bottom Up segmentation."
   ]
  },
  {
   "cell_type": "markdown",
   "id": "13381ccd-200c-4959-a34a-5923eef561d5",
   "metadata": {},
   "source": [
    "<a id=\"methods\">"
   ]
  },
  {
   "cell_type": "markdown",
   "id": "d5b79fd0-5b8e-4680-9da6-e5866dd7ae54",
   "metadata": {},
   "source": [
    "## Implementing the Prediction Pipeline"
   ]
  },
  {
   "cell_type": "markdown",
   "id": "3cd4611d-b895-413b-b87c-39496ac9d522",
   "metadata": {},
   "source": [
    "### Creating the Cosine Similarity Function"
   ]
  },
  {
   "cell_type": "code",
   "execution_count": 5,
   "id": "b6fb73e6-d8ab-459e-9cd9-36d96c8379f3",
   "metadata": {},
   "outputs": [],
   "source": [
    "# Define the custom cosine loss\n",
    "class CosineCost(BaseCost):\n",
    "    model = \"CustomCosine\"\n",
    "    min_size = 1\n",
    "    \n",
    "    def fit(self, signal) -> None:\n",
    "        self.signal = signal\n",
    "        self.gram = cosine_similarity(signal, dense_output=False)\n",
    "        return self\n",
    "    \n",
    "    def error(self, start, end) -> float:\n",
    "        if end - start < self.min_size:\n",
    "            raise NotEnoughPoints\n",
    "        sub_gram = self.gram[start:end, start:end]\n",
    "        val = sub_gram.diagonal().sum()\n",
    "        val -= sub_gram.sum() / (end - start)\n",
    "        return val\n",
    "        "
   ]
  },
  {
   "cell_type": "markdown",
   "id": "3e1b8652-a8e0-411a-82bc-e2f2410b02c5",
   "metadata": {},
   "source": [
    "### TF-IDF experiments"
   ]
  },
  {
   "cell_type": "markdown",
   "id": "4f875709-1675-4c54-af1b-5aae8c97bee2",
   "metadata": {},
   "source": [
    "We will experiment with the usage of TF-IDF vectors first, both on the debug dataset and the other datasets, and also run the robustness experiments."
   ]
  },
  {
   "cell_type": "code",
   "execution_count": 6,
   "id": "1809bd5c-60f5-415f-8af7-9e5b6dcdeaa2",
   "metadata": {},
   "outputs": [],
   "source": [
    "def create_tfidf_vectors(train_dataframe, test_dataframe, nan_fill: str = \"NONE\"):\n",
    "    \n",
    "    vector_dict = {}\n",
    "    # Train on the train dataframe, and use this to predict on the\n",
    "    # test dataframe.\n",
    "    vectorizer = TfidfVectorizer(ngram_range=(3, 3), analyzer='char')\n",
    "    train_text = train_dataframe.text.fillna(nan_fill).tolist()\n",
    "    vectorizer.fit(train_text)\n",
    "    \n",
    "    # Loop over all streams and get the tf idf vectors for them\n",
    "    for stream_id, stream_dataframe in tqdm(test_dataframe.groupby('name')):\n",
    "        stream_vectors = vectorizer.transform(stream_dataframe.text.fillna('NONE'))\n",
    "        vector_dict[stream_id] = stream_vectors\n",
    "\n",
    "    return vector_dict"
   ]
  },
  {
   "cell_type": "markdown",
   "id": "3b7f4517-8e31-45e7-8531-bd333666c7e9",
   "metadata": {},
   "source": [
    "Because there is no clear 'training' in this approach, we will just run our model in the test set directly, and report the scores. Beware, this package puts the changepoint index as the end of a sequence! This means that we have to translate this to our approach by shiften the prediction up 1 for each index. However, because I think they also let the index start at 1 instead of 0, we should be ok with the setting we have now."
   ]
  },
  {
   "cell_type": "code",
   "execution_count": 7,
   "id": "6178b464-74a9-4268-aac9-f853c688fd85",
   "metadata": {},
   "outputs": [],
   "source": [
    "def extract_changepoints(list_of_changepoints: list) -> np.ndarray:\n",
    "    # Last changepoint is just the index of the signal\n",
    "    output_signal = np.zeros(shape=(list_of_changepoints[-1]))\n",
    "    output_signal[[item for item in list_of_changepoints[:-1]]] = 1\n",
    "    return output_signal\n",
    "    "
   ]
  },
  {
   "cell_type": "markdown",
   "id": "8c8edd1d-9505-48f8-9707-54b9da9d8b29",
   "metadata": {},
   "source": [
    "To make the models and methods easier to work with and more modular, we will assume the input to the predict function to already be a dictionary with a matrix of page vectors for each stream."
   ]
  },
  {
   "cell_type": "code",
   "execution_count": 8,
   "id": "a90c07e6-b50f-4a9b-8738-96b879325c1a",
   "metadata": {},
   "outputs": [],
   "source": [
    "\n",
    "#algo_c = rpt.KernelCPD(kernel=\"linear\", min_size=2).fit(signal)  # written in C\n",
    "\n",
    "# Karakter n grammen werken hier het best.\n",
    "def predict(dataframe, stream_dict, known_k: bool = True, method=\"dynamic\",\n",
    "           penalty: float = None) -> dict:\n",
    "    \n",
    "    assert method in [\"dynamic\", \"pelt\", \"binary\", \"windowed\", \"bottomup\"]\n",
    "    if (known_k and method == \"pelt\") or (not known_k and method == \"dynamic\"):\n",
    "        raise ValueError\n",
    "    \n",
    "    predictions = {}\n",
    "    # Number of change points is simply the number of documents minus 1\n",
    "    changepoint_lookup = dataframe.groupby('name')['label'].sum()-1\n",
    "    \n",
    "    algorithms = {'dynamic': ruptures.KernelCPD,\n",
    "                 'pelt': ruptures.KernelCPD,\n",
    "                 'binary': ruptures.Binseg,\n",
    "                 'bottomup': ruptures.BottomUp,\n",
    "                 'windowed': ruptures.Window}\n",
    "    \n",
    "    # Implement the main prediction loop\n",
    "    for stream_id, vectors in tqdm(stream_dict.items()):\n",
    "        if method in ['pelt', 'dynamic']:\n",
    "            split_algo = algorithms[method](kernel='cosine', min_size=1, jump=1).fit(vectors)\n",
    "        else:\n",
    "            split_algo = algorithms[method](custom_cost=CosineCost, min_size=1, jump=1).fit(vectors)\n",
    "        num_changepoints = changepoint_lookup[stream_id]\n",
    "        if known_k:\n",
    "            if not num_changepoints:\n",
    "                predicted_breaks = np.zeros(shape=(vectors.shape[0], 1))\n",
    "                predicted_breaks[0] = 1\n",
    "                predictions[stream_id] = dataframe[dataframe.name == stream_id].label.tolist()\n",
    "                continue\n",
    "                \n",
    "            if method in ['binary', 'bottomup', 'windowed'] and penalty:\n",
    "                predicted_breaks = split_algo.predict(n_bkps=num_changepoints, pen=penalty)   \n",
    "            else:\n",
    "                predicted_breaks = split_algo.predict(n_bkps=num_changepoints)\n",
    "        else:\n",
    "            predicted_breaks = split_algo.predict(pen=penalty)\n",
    "\n",
    "        prediction_array = extract_changepoints(predicted_breaks)\n",
    "        predictions[stream_id] = prediction_array\n",
    "        \n",
    "    return predictions\n",
    "        \n",
    "        "
   ]
  },
  {
   "cell_type": "markdown",
   "id": "afefaf8e-10ab-4640-9b00-7678812a2a90",
   "metadata": {},
   "source": [
    "To facilitate the ease of experimenting, we will create a small function that, given whether k is known or not, runs all the algorithms in the ruptures package."
   ]
  },
  {
   "cell_type": "code",
   "execution_count": 9,
   "id": "0e98e27b-7b70-4342-bab7-4805d0d8d702",
   "metadata": {},
   "outputs": [],
   "source": [
    "def experiment(test_dataframe, test_vectors, known_k: bool, penalty: float=None,\n",
    "              average_results: bool = True):\n",
    "    \n",
    "    method_results = {}\n",
    "    \n",
    "    if known_k:\n",
    "        methods = ['dynamic', 'bottomup', 'binary', 'windowed']\n",
    "        #methods = ['bottomup']\n",
    "    else:\n",
    "        methods = ['pelt', 'bottomup', 'binary', 'windowed']\n",
    "        # methods = ['bottomup']\n",
    "    \n",
    "    ground_truth = get_ground_truth_from_dataframe(test_dataframe, col='label')\n",
    "    \n",
    "    for method in methods:\n",
    "        print(method)\n",
    "        predictions = predict(test_dataframe, test_vectors, known_k=known_k,\n",
    "                              method=method, penalty=penalty)\n",
    "        if average_results:\n",
    "            method_scores = evaluation_report(ground_truth, predictions)\n",
    "        else:\n",
    "            method_scores = calculate_scores_df(ground_truth, predictions)\n",
    "            \n",
    "        method_results[method] = method_scores\n",
    "    combined_dataframe = pd.concat([method_results[item] for item in method_results.keys()], keys=method_results.keys(),\n",
    "              axis=1, names=[\"model\", \"metric\"])\n",
    "    return combined_dataframe\n",
    "        \n",
    "    \n",
    "    "
   ]
  },
  {
   "cell_type": "markdown",
   "id": "fc04560e-1ce0-4611-b8b4-77ab64a4f408",
   "metadata": {},
   "source": [
    "It is interesting to see that for the binary approach, there is barely a difference between whether we do or do not know k, and in the case were we do not know k it is even a bit better."
   ]
  },
  {
   "cell_type": "markdown",
   "id": "a8bbdece-0baa-4d0d-8a6c-280b71860f9c",
   "metadata": {},
   "source": [
    "Now we run the experiment for the other two datasets, and collect the results. Because of the very long runtime, and the limited performance, we exlucde the PELT and Dynp methods from these evaluation, as they have shown not to obtain superior performance."
   ]
  },
  {
   "cell_type": "markdown",
   "id": "e1bbe5b8-abad-46af-ab4f-570d6a80f828",
   "metadata": {},
   "source": [
    "#### D1 dataset"
   ]
  },
  {
   "cell_type": "code",
   "execution_count": 11,
   "id": "e8d9704a-a699-4865-92ba-906861b1da59",
   "metadata": {},
   "outputs": [
    {
     "ename": "KeyboardInterrupt",
     "evalue": "",
     "output_type": "error",
     "traceback": [
      "\u001b[0;31m---------------------------------------------------------------------------\u001b[0m",
      "\u001b[0;31mKeyboardInterrupt\u001b[0m                         Traceback (most recent call last)",
      "\u001b[0;32m<ipython-input-11-10ddc77f5912>\u001b[0m in \u001b[0;36m<module>\u001b[0;34m\u001b[0m\n\u001b[0;32m----> 1\u001b[0;31m \u001b[0mD1_tfidf_vectors\u001b[0m \u001b[0;34m=\u001b[0m \u001b[0mcreate_tfidf_vectors\u001b[0m\u001b[0;34m(\u001b[0m\u001b[0mD1_train\u001b[0m\u001b[0;34m,\u001b[0m \u001b[0mD1_test\u001b[0m\u001b[0;34m)\u001b[0m\u001b[0;34m\u001b[0m\u001b[0;34m\u001b[0m\u001b[0m\n\u001b[0m\u001b[1;32m      2\u001b[0m \u001b[0mD1_experiment_results_k\u001b[0m \u001b[0;34m=\u001b[0m \u001b[0mexperiment\u001b[0m\u001b[0;34m(\u001b[0m\u001b[0mD1_test\u001b[0m\u001b[0;34m,\u001b[0m \u001b[0mD1_tfidf_vectors\u001b[0m\u001b[0;34m,\u001b[0m \u001b[0mknown_k\u001b[0m\u001b[0;34m=\u001b[0m\u001b[0;32mTrue\u001b[0m\u001b[0;34m)\u001b[0m\u001b[0;34m\u001b[0m\u001b[0;34m\u001b[0m\u001b[0m\n\u001b[1;32m      3\u001b[0m \u001b[0mD1_experiment_results_k\u001b[0m\u001b[0;34m[\u001b[0m\u001b[0;34m:\u001b[0m\u001b[0;34m]\u001b[0m\u001b[0;34m.\u001b[0m\u001b[0mloc\u001b[0m\u001b[0;34m[\u001b[0m\u001b[0;34m'Boundary'\u001b[0m\u001b[0;34m,\u001b[0m \u001b[0;34m:\u001b[0m\u001b[0;34m]\u001b[0m\u001b[0;34m.\u001b[0m\u001b[0munstack\u001b[0m\u001b[0;34m(\u001b[0m\u001b[0;34m)\u001b[0m\u001b[0;34m\u001b[0m\u001b[0;34m\u001b[0m\u001b[0m\n",
      "\u001b[0;32m<ipython-input-6-d06b56ed5ee9>\u001b[0m in \u001b[0;36mcreate_tfidf_vectors\u001b[0;34m(train_dataframe, test_dataframe, nan_fill)\u001b[0m\n\u001b[1;32m      6\u001b[0m     \u001b[0mvectorizer\u001b[0m \u001b[0;34m=\u001b[0m \u001b[0mTfidfVectorizer\u001b[0m\u001b[0;34m(\u001b[0m\u001b[0mngram_range\u001b[0m\u001b[0;34m=\u001b[0m\u001b[0;34m(\u001b[0m\u001b[0;36m3\u001b[0m\u001b[0;34m,\u001b[0m \u001b[0;36m3\u001b[0m\u001b[0;34m)\u001b[0m\u001b[0;34m,\u001b[0m \u001b[0manalyzer\u001b[0m\u001b[0;34m=\u001b[0m\u001b[0;34m'char'\u001b[0m\u001b[0;34m)\u001b[0m\u001b[0;34m\u001b[0m\u001b[0;34m\u001b[0m\u001b[0m\n\u001b[1;32m      7\u001b[0m     \u001b[0mtrain_text\u001b[0m \u001b[0;34m=\u001b[0m \u001b[0mtrain_dataframe\u001b[0m\u001b[0;34m.\u001b[0m\u001b[0mtext\u001b[0m\u001b[0;34m.\u001b[0m\u001b[0mfillna\u001b[0m\u001b[0;34m(\u001b[0m\u001b[0mnan_fill\u001b[0m\u001b[0;34m)\u001b[0m\u001b[0;34m.\u001b[0m\u001b[0mtolist\u001b[0m\u001b[0;34m(\u001b[0m\u001b[0;34m)\u001b[0m\u001b[0;34m\u001b[0m\u001b[0;34m\u001b[0m\u001b[0m\n\u001b[0;32m----> 8\u001b[0;31m     \u001b[0mvectorizer\u001b[0m\u001b[0;34m.\u001b[0m\u001b[0mfit\u001b[0m\u001b[0;34m(\u001b[0m\u001b[0mtrain_text\u001b[0m\u001b[0;34m)\u001b[0m\u001b[0;34m\u001b[0m\u001b[0;34m\u001b[0m\u001b[0m\n\u001b[0m\u001b[1;32m      9\u001b[0m \u001b[0;34m\u001b[0m\u001b[0m\n\u001b[1;32m     10\u001b[0m     \u001b[0;31m# Loop over all streams and get the tf idf vectors for them\u001b[0m\u001b[0;34m\u001b[0m\u001b[0;34m\u001b[0m\u001b[0m\n",
      "\u001b[0;32m~/anaconda3/envs/DutchRoberta/lib/python3.9/site-packages/sklearn/feature_extraction/text.py\u001b[0m in \u001b[0;36mfit\u001b[0;34m(self, raw_documents, y)\u001b[0m\n\u001b[1;32m   2051\u001b[0m         \u001b[0mself\u001b[0m\u001b[0;34m.\u001b[0m\u001b[0m_check_params\u001b[0m\u001b[0;34m(\u001b[0m\u001b[0;34m)\u001b[0m\u001b[0;34m\u001b[0m\u001b[0;34m\u001b[0m\u001b[0m\n\u001b[1;32m   2052\u001b[0m         \u001b[0mself\u001b[0m\u001b[0;34m.\u001b[0m\u001b[0m_warn_for_unused_params\u001b[0m\u001b[0;34m(\u001b[0m\u001b[0;34m)\u001b[0m\u001b[0;34m\u001b[0m\u001b[0;34m\u001b[0m\u001b[0m\n\u001b[0;32m-> 2053\u001b[0;31m         \u001b[0mX\u001b[0m \u001b[0;34m=\u001b[0m \u001b[0msuper\u001b[0m\u001b[0;34m(\u001b[0m\u001b[0;34m)\u001b[0m\u001b[0;34m.\u001b[0m\u001b[0mfit_transform\u001b[0m\u001b[0;34m(\u001b[0m\u001b[0mraw_documents\u001b[0m\u001b[0;34m)\u001b[0m\u001b[0;34m\u001b[0m\u001b[0;34m\u001b[0m\u001b[0m\n\u001b[0m\u001b[1;32m   2054\u001b[0m         \u001b[0mself\u001b[0m\u001b[0;34m.\u001b[0m\u001b[0m_tfidf\u001b[0m\u001b[0;34m.\u001b[0m\u001b[0mfit\u001b[0m\u001b[0;34m(\u001b[0m\u001b[0mX\u001b[0m\u001b[0;34m)\u001b[0m\u001b[0;34m\u001b[0m\u001b[0;34m\u001b[0m\u001b[0m\n\u001b[1;32m   2055\u001b[0m         \u001b[0;32mreturn\u001b[0m \u001b[0mself\u001b[0m\u001b[0;34m\u001b[0m\u001b[0;34m\u001b[0m\u001b[0m\n",
      "\u001b[0;32m~/anaconda3/envs/DutchRoberta/lib/python3.9/site-packages/sklearn/feature_extraction/text.py\u001b[0m in \u001b[0;36mfit_transform\u001b[0;34m(self, raw_documents, y)\u001b[0m\n\u001b[1;32m   1328\u001b[0m                     \u001b[0;32mbreak\u001b[0m\u001b[0;34m\u001b[0m\u001b[0;34m\u001b[0m\u001b[0m\n\u001b[1;32m   1329\u001b[0m \u001b[0;34m\u001b[0m\u001b[0m\n\u001b[0;32m-> 1330\u001b[0;31m         \u001b[0mvocabulary\u001b[0m\u001b[0;34m,\u001b[0m \u001b[0mX\u001b[0m \u001b[0;34m=\u001b[0m \u001b[0mself\u001b[0m\u001b[0;34m.\u001b[0m\u001b[0m_count_vocab\u001b[0m\u001b[0;34m(\u001b[0m\u001b[0mraw_documents\u001b[0m\u001b[0;34m,\u001b[0m \u001b[0mself\u001b[0m\u001b[0;34m.\u001b[0m\u001b[0mfixed_vocabulary_\u001b[0m\u001b[0;34m)\u001b[0m\u001b[0;34m\u001b[0m\u001b[0;34m\u001b[0m\u001b[0m\n\u001b[0m\u001b[1;32m   1331\u001b[0m \u001b[0;34m\u001b[0m\u001b[0m\n\u001b[1;32m   1332\u001b[0m         \u001b[0;32mif\u001b[0m \u001b[0mself\u001b[0m\u001b[0;34m.\u001b[0m\u001b[0mbinary\u001b[0m\u001b[0;34m:\u001b[0m\u001b[0;34m\u001b[0m\u001b[0;34m\u001b[0m\u001b[0m\n",
      "\u001b[0;32m~/anaconda3/envs/DutchRoberta/lib/python3.9/site-packages/sklearn/feature_extraction/text.py\u001b[0m in \u001b[0;36m_count_vocab\u001b[0;34m(self, raw_documents, fixed_vocab)\u001b[0m\n\u001b[1;32m   1199\u001b[0m         \u001b[0;32mfor\u001b[0m \u001b[0mdoc\u001b[0m \u001b[0;32min\u001b[0m \u001b[0mraw_documents\u001b[0m\u001b[0;34m:\u001b[0m\u001b[0;34m\u001b[0m\u001b[0;34m\u001b[0m\u001b[0m\n\u001b[1;32m   1200\u001b[0m             \u001b[0mfeature_counter\u001b[0m \u001b[0;34m=\u001b[0m \u001b[0;34m{\u001b[0m\u001b[0;34m}\u001b[0m\u001b[0;34m\u001b[0m\u001b[0;34m\u001b[0m\u001b[0m\n\u001b[0;32m-> 1201\u001b[0;31m             \u001b[0;32mfor\u001b[0m \u001b[0mfeature\u001b[0m \u001b[0;32min\u001b[0m \u001b[0manalyze\u001b[0m\u001b[0;34m(\u001b[0m\u001b[0mdoc\u001b[0m\u001b[0;34m)\u001b[0m\u001b[0;34m:\u001b[0m\u001b[0;34m\u001b[0m\u001b[0;34m\u001b[0m\u001b[0m\n\u001b[0m\u001b[1;32m   1202\u001b[0m                 \u001b[0;32mtry\u001b[0m\u001b[0;34m:\u001b[0m\u001b[0;34m\u001b[0m\u001b[0;34m\u001b[0m\u001b[0m\n\u001b[1;32m   1203\u001b[0m                     \u001b[0mfeature_idx\u001b[0m \u001b[0;34m=\u001b[0m \u001b[0mvocabulary\u001b[0m\u001b[0;34m[\u001b[0m\u001b[0mfeature\u001b[0m\u001b[0;34m]\u001b[0m\u001b[0;34m\u001b[0m\u001b[0;34m\u001b[0m\u001b[0m\n",
      "\u001b[0;32m~/anaconda3/envs/DutchRoberta/lib/python3.9/site-packages/sklearn/feature_extraction/text.py\u001b[0m in \u001b[0;36m_analyze\u001b[0;34m(doc, analyzer, tokenizer, ngrams, preprocessor, decoder, stop_words)\u001b[0m\n\u001b[1;32m    118\u001b[0m                 \u001b[0mdoc\u001b[0m \u001b[0;34m=\u001b[0m \u001b[0mngrams\u001b[0m\u001b[0;34m(\u001b[0m\u001b[0mdoc\u001b[0m\u001b[0;34m,\u001b[0m \u001b[0mstop_words\u001b[0m\u001b[0;34m)\u001b[0m\u001b[0;34m\u001b[0m\u001b[0;34m\u001b[0m\u001b[0m\n\u001b[1;32m    119\u001b[0m             \u001b[0;32melse\u001b[0m\u001b[0;34m:\u001b[0m\u001b[0;34m\u001b[0m\u001b[0;34m\u001b[0m\u001b[0m\n\u001b[0;32m--> 120\u001b[0;31m                 \u001b[0mdoc\u001b[0m \u001b[0;34m=\u001b[0m \u001b[0mngrams\u001b[0m\u001b[0;34m(\u001b[0m\u001b[0mdoc\u001b[0m\u001b[0;34m)\u001b[0m\u001b[0;34m\u001b[0m\u001b[0;34m\u001b[0m\u001b[0m\n\u001b[0m\u001b[1;32m    121\u001b[0m     \u001b[0;32mreturn\u001b[0m \u001b[0mdoc\u001b[0m\u001b[0;34m\u001b[0m\u001b[0;34m\u001b[0m\u001b[0m\n\u001b[1;32m    122\u001b[0m \u001b[0;34m\u001b[0m\u001b[0m\n",
      "\u001b[0;32m~/anaconda3/envs/DutchRoberta/lib/python3.9/site-packages/sklearn/feature_extraction/text.py\u001b[0m in \u001b[0;36m_char_ngrams\u001b[0;34m(self, text_document)\u001b[0m\n\u001b[1;32m    263\u001b[0m         \u001b[0;34m\"\"\"Tokenize text_document into a sequence of character n-grams\"\"\"\u001b[0m\u001b[0;34m\u001b[0m\u001b[0;34m\u001b[0m\u001b[0m\n\u001b[1;32m    264\u001b[0m         \u001b[0;31m# normalize white spaces\u001b[0m\u001b[0;34m\u001b[0m\u001b[0;34m\u001b[0m\u001b[0m\n\u001b[0;32m--> 265\u001b[0;31m         \u001b[0mtext_document\u001b[0m \u001b[0;34m=\u001b[0m \u001b[0mself\u001b[0m\u001b[0;34m.\u001b[0m\u001b[0m_white_spaces\u001b[0m\u001b[0;34m.\u001b[0m\u001b[0msub\u001b[0m\u001b[0;34m(\u001b[0m\u001b[0;34m\" \"\u001b[0m\u001b[0;34m,\u001b[0m \u001b[0mtext_document\u001b[0m\u001b[0;34m)\u001b[0m\u001b[0;34m\u001b[0m\u001b[0;34m\u001b[0m\u001b[0m\n\u001b[0m\u001b[1;32m    266\u001b[0m \u001b[0;34m\u001b[0m\u001b[0m\n\u001b[1;32m    267\u001b[0m         \u001b[0mtext_len\u001b[0m \u001b[0;34m=\u001b[0m \u001b[0mlen\u001b[0m\u001b[0;34m(\u001b[0m\u001b[0mtext_document\u001b[0m\u001b[0;34m)\u001b[0m\u001b[0;34m\u001b[0m\u001b[0;34m\u001b[0m\u001b[0m\n",
      "\u001b[0;31mKeyboardInterrupt\u001b[0m: "
     ]
    }
   ],
   "source": [
    "D1_tfidf_vectors = create_tfidf_vectors(D1_train, D1_test)\n",
    "D1_experiment_results_k = experiment(D1_test, D1_tfidf_vectors, known_k=True)\n",
    "D1_experiment_results_k[:].loc['Boundary', :].unstack()"
   ]
  },
  {
   "cell_type": "code",
   "execution_count": 54,
   "id": "570010fe-aed1-463f-af56-306f48af8cc8",
   "metadata": {},
   "outputs": [
    {
     "name": "stdout",
     "output_type": "stream",
     "text": [
      "bottomup\n"
     ]
    },
    {
     "name": "stderr",
     "output_type": "stream",
     "text": [
      "100%|██████████| 34/34 [00:42<00:00,  1.24s/it]\n"
     ]
    },
    {
     "data": {
      "text/html": [
       "<div>\n",
       "<style scoped>\n",
       "    .dataframe tbody tr th:only-of-type {\n",
       "        vertical-align: middle;\n",
       "    }\n",
       "\n",
       "    .dataframe tbody tr th {\n",
       "        vertical-align: top;\n",
       "    }\n",
       "\n",
       "    .dataframe thead th {\n",
       "        text-align: right;\n",
       "    }\n",
       "</style>\n",
       "<table border=\"1\" class=\"dataframe\">\n",
       "  <thead>\n",
       "    <tr style=\"text-align: right;\">\n",
       "      <th>metric</th>\n",
       "      <th>precision</th>\n",
       "      <th>recall</th>\n",
       "      <th>F1</th>\n",
       "      <th>support</th>\n",
       "      <th>CI Precision</th>\n",
       "      <th>CI Recall</th>\n",
       "      <th>CI F1</th>\n",
       "    </tr>\n",
       "    <tr>\n",
       "      <th>model</th>\n",
       "      <th></th>\n",
       "      <th></th>\n",
       "      <th></th>\n",
       "      <th></th>\n",
       "      <th></th>\n",
       "      <th></th>\n",
       "      <th></th>\n",
       "    </tr>\n",
       "  </thead>\n",
       "  <tbody>\n",
       "    <tr>\n",
       "      <th>bottomup</th>\n",
       "      <td>0.38</td>\n",
       "      <td>0.88</td>\n",
       "      <td>0.49</td>\n",
       "      <td>6347</td>\n",
       "      <td>0.37-0.39</td>\n",
       "      <td>0.88-0.88</td>\n",
       "      <td>0.48-0.5</td>\n",
       "    </tr>\n",
       "  </tbody>\n",
       "</table>\n",
       "</div>"
      ],
      "text/plain": [
       "metric   precision recall    F1 support CI Precision  CI Recall     CI F1\n",
       "model                                                                    \n",
       "bottomup      0.38   0.88  0.49    6347    0.37-0.39  0.88-0.88  0.48-0.5"
      ]
     },
     "execution_count": 54,
     "metadata": {},
     "output_type": "execute_result"
    }
   ],
   "source": [
    "D1_experiment_results_no_k = experiment(D1_test, D1_tfidf_vectors, known_k=False, penalty=0.5)\n",
    "D1_experiment_results_no_k[:].loc['Boundary', :].unstack()"
   ]
  },
  {
   "cell_type": "markdown",
   "id": "7bee92d7-72d0-46a2-a636-30257cbe1c6f",
   "metadata": {},
   "source": [
    "#### D2 dataset"
   ]
  },
  {
   "cell_type": "code",
   "execution_count": 55,
   "id": "0d9f912c-fd6d-4722-9113-f5e294c1b6ec",
   "metadata": {},
   "outputs": [
    {
     "name": "stderr",
     "output_type": "stream",
     "text": [
      "100%|██████████| 108/108 [00:10<00:00, 10.21it/s]\n"
     ]
    },
    {
     "name": "stdout",
     "output_type": "stream",
     "text": [
      "bottomup\n"
     ]
    },
    {
     "name": "stderr",
     "output_type": "stream",
     "text": [
      "100%|██████████| 108/108 [00:10<00:00, 10.57it/s]\n"
     ]
    },
    {
     "data": {
      "text/html": [
       "<div>\n",
       "<style scoped>\n",
       "    .dataframe tbody tr th:only-of-type {\n",
       "        vertical-align: middle;\n",
       "    }\n",
       "\n",
       "    .dataframe tbody tr th {\n",
       "        vertical-align: top;\n",
       "    }\n",
       "\n",
       "    .dataframe thead th {\n",
       "        text-align: right;\n",
       "    }\n",
       "</style>\n",
       "<table border=\"1\" class=\"dataframe\">\n",
       "  <thead>\n",
       "    <tr style=\"text-align: right;\">\n",
       "      <th>metric</th>\n",
       "      <th>precision</th>\n",
       "      <th>recall</th>\n",
       "      <th>F1</th>\n",
       "      <th>support</th>\n",
       "      <th>CI Precision</th>\n",
       "      <th>CI Recall</th>\n",
       "      <th>CI F1</th>\n",
       "    </tr>\n",
       "    <tr>\n",
       "      <th>model</th>\n",
       "      <th></th>\n",
       "      <th></th>\n",
       "      <th></th>\n",
       "      <th></th>\n",
       "      <th></th>\n",
       "      <th></th>\n",
       "      <th></th>\n",
       "    </tr>\n",
       "  </thead>\n",
       "  <tbody>\n",
       "    <tr>\n",
       "      <th>bottomup</th>\n",
       "      <td>0.61</td>\n",
       "      <td>0.61</td>\n",
       "      <td>0.61</td>\n",
       "      <td>1404</td>\n",
       "      <td>0.58-0.64</td>\n",
       "      <td>0.58-0.64</td>\n",
       "      <td>0.58-0.64</td>\n",
       "    </tr>\n",
       "  </tbody>\n",
       "</table>\n",
       "</div>"
      ],
      "text/plain": [
       "metric   precision recall    F1 support CI Precision  CI Recall      CI F1\n",
       "model                                                                     \n",
       "bottomup      0.61   0.61  0.61    1404    0.58-0.64  0.58-0.64  0.58-0.64"
      ]
     },
     "execution_count": 55,
     "metadata": {},
     "output_type": "execute_result"
    }
   ],
   "source": [
    "D2_tfidf_vectors = create_tfidf_vectors(D2_train, D2_test)\n",
    "D2_experiment_results_k = experiment(D2_test, D2_tfidf_vectors, known_k=True)\n",
    "D2_experiment_results_k[:].loc['Boundary', :].unstack()"
   ]
  },
  {
   "cell_type": "code",
   "execution_count": 56,
   "id": "9b14ff3b-471d-4810-b44b-d6e502b111cf",
   "metadata": {},
   "outputs": [
    {
     "name": "stdout",
     "output_type": "stream",
     "text": [
      "bottomup\n"
     ]
    },
    {
     "name": "stderr",
     "output_type": "stream",
     "text": [
      "100%|██████████| 108/108 [00:06<00:00, 15.63it/s]\n"
     ]
    },
    {
     "data": {
      "text/html": [
       "<div>\n",
       "<style scoped>\n",
       "    .dataframe tbody tr th:only-of-type {\n",
       "        vertical-align: middle;\n",
       "    }\n",
       "\n",
       "    .dataframe tbody tr th {\n",
       "        vertical-align: top;\n",
       "    }\n",
       "\n",
       "    .dataframe thead th {\n",
       "        text-align: right;\n",
       "    }\n",
       "</style>\n",
       "<table border=\"1\" class=\"dataframe\">\n",
       "  <thead>\n",
       "    <tr style=\"text-align: right;\">\n",
       "      <th>metric</th>\n",
       "      <th>precision</th>\n",
       "      <th>recall</th>\n",
       "      <th>F1</th>\n",
       "      <th>support</th>\n",
       "      <th>CI Precision</th>\n",
       "      <th>CI Recall</th>\n",
       "      <th>CI F1</th>\n",
       "    </tr>\n",
       "    <tr>\n",
       "      <th>model</th>\n",
       "      <th></th>\n",
       "      <th></th>\n",
       "      <th></th>\n",
       "      <th></th>\n",
       "      <th></th>\n",
       "      <th></th>\n",
       "      <th></th>\n",
       "    </tr>\n",
       "  </thead>\n",
       "  <tbody>\n",
       "    <tr>\n",
       "      <th>bottomup</th>\n",
       "      <td>0.37</td>\n",
       "      <td>0.95</td>\n",
       "      <td>0.48</td>\n",
       "      <td>1404</td>\n",
       "      <td>0.36-0.38</td>\n",
       "      <td>0.95-0.95</td>\n",
       "      <td>0.47-0.49</td>\n",
       "    </tr>\n",
       "  </tbody>\n",
       "</table>\n",
       "</div>"
      ],
      "text/plain": [
       "metric   precision recall    F1 support CI Precision  CI Recall      CI F1\n",
       "model                                                                     \n",
       "bottomup      0.37   0.95  0.48    1404    0.36-0.38  0.95-0.95  0.47-0.49"
      ]
     },
     "execution_count": 56,
     "metadata": {},
     "output_type": "execute_result"
    }
   ],
   "source": [
    "D2_experiment_results_no_k = experiment(D2_test, D2_tfidf_vectors, known_k=False, penalty=0.5)\n",
    "D2_experiment_results_no_k[:].loc['Boundary', :].unstack()"
   ]
  },
  {
   "cell_type": "markdown",
   "id": "e91a6e48-2f6d-41eb-ab1a-e485fbd793f2",
   "metadata": {},
   "source": [
    "The results here are quite interesting, as it seems that not knowing k actually makes the model improves in recall. This means that, although we place the correct number of boundaries if we know k, we often place them wrong. If we don't know k, our precision drops as we put in too many boundaries, but our recall increased, as we are getting more boundaries."
   ]
  },
  {
   "cell_type": "markdown",
   "id": "e2bb7950-810a-43c6-9421-f9e27fb52865",
   "metadata": {},
   "source": [
    "<a id=\"different_vector_types\">"
   ]
  },
  {
   "cell_type": "markdown",
   "id": "2d746fab-ddd4-46f4-aae1-a096d93236ca",
   "metadata": {},
   "source": [
    "## Different Vector Types\n",
    "\n",
    "In the above experiments we have worked with TFIDF vectors, in this part of the notebook we will work with the pretrained text and image vectors instead, to see if we can improve the performance of the models using the more refined vectors. We will use pretrained embeddings from BERT for text, and pretrained embeddings from VGG16 from images. Because we are using methods that cannot really be trained, the robustness experiment is not applicable here. One could argue that we could use pretrained vectors here, which is something that could be done in future work."
   ]
  },
  {
   "cell_type": "code",
   "execution_count": 8,
   "id": "be379591-1749-4f52-ae0a-77c0727f64d0",
   "metadata": {},
   "outputs": [],
   "source": [
    "# Load the standard and robust image vectors\n",
    "D1_standard_image_vectors = np.load('../vector_data/image_vectors/D1/test_vectors.npy', allow_pickle=True)[()]\n",
    "D2_standard_image_vectors = np.load('../vector_data/image_vectors/D2/test_vectors.npy', allow_pickle=True)[()]\n",
    "\n",
    "# Load the standard and robust text vectors\n",
    "D1_standard_text_vectors = np.load('../vector_data/bert_vectors/D1/test_vectors.npy', allow_pickle=True)[()]\n",
    "D2_standard_text_vectors = np.load('../vector_data/bert_vectors/D2/test_vectors.npy', allow_pickle=True)[()]"
   ]
  },
  {
   "cell_type": "markdown",
   "id": "22068de6-04ae-4134-a87d-ddae6ce94342",
   "metadata": {},
   "source": [
    "### Image Vectors"
   ]
  },
  {
   "cell_type": "code",
   "execution_count": 34,
   "id": "51765472-645c-4fdc-9ff2-5fe572e82cde",
   "metadata": {},
   "outputs": [
    {
     "name": "stdout",
     "output_type": "stream",
     "text": [
      "dynamic\n"
     ]
    },
    {
     "name": "stderr",
     "output_type": "stream",
     "text": [
      "100%|██████████| 34/34 [03:04<00:00,  5.42s/it]\n"
     ]
    },
    {
     "name": "stdout",
     "output_type": "stream",
     "text": [
      "bottomup\n"
     ]
    },
    {
     "name": "stderr",
     "output_type": "stream",
     "text": [
      "100%|██████████| 34/34 [00:09<00:00,  3.77it/s]\n"
     ]
    },
    {
     "name": "stdout",
     "output_type": "stream",
     "text": [
      "binary\n"
     ]
    },
    {
     "name": "stderr",
     "output_type": "stream",
     "text": [
      "100%|██████████| 34/34 [23:26<00:00, 41.36s/it] \n"
     ]
    },
    {
     "name": "stdout",
     "output_type": "stream",
     "text": [
      "windowed\n"
     ]
    },
    {
     "name": "stderr",
     "output_type": "stream",
     "text": [
      "100%|██████████| 34/34 [00:22<00:00,  1.54it/s]\n"
     ]
    },
    {
     "name": "stdout",
     "output_type": "stream",
     "text": [
      "pelt\n"
     ]
    },
    {
     "name": "stderr",
     "output_type": "stream",
     "text": [
      "100%|██████████| 34/34 [00:05<00:00,  5.94it/s]\n"
     ]
    },
    {
     "name": "stdout",
     "output_type": "stream",
     "text": [
      "bottomup\n"
     ]
    },
    {
     "name": "stderr",
     "output_type": "stream",
     "text": [
      "100%|██████████| 34/34 [00:05<00:00,  6.43it/s]\n"
     ]
    },
    {
     "name": "stdout",
     "output_type": "stream",
     "text": [
      "binary\n"
     ]
    },
    {
     "name": "stderr",
     "output_type": "stream",
     "text": [
      "100%|██████████| 34/34 [24:12<00:00, 42.73s/it] \n"
     ]
    },
    {
     "name": "stdout",
     "output_type": "stream",
     "text": [
      "windowed\n"
     ]
    },
    {
     "name": "stderr",
     "output_type": "stream",
     "text": [
      "100%|██████████| 34/34 [00:24<00:00,  1.37it/s]\n"
     ]
    },
    {
     "data": {
      "text/html": [
       "<div>\n",
       "<style scoped>\n",
       "    .dataframe tbody tr th:only-of-type {\n",
       "        vertical-align: middle;\n",
       "    }\n",
       "\n",
       "    .dataframe tbody tr th {\n",
       "        vertical-align: top;\n",
       "    }\n",
       "\n",
       "    .dataframe thead th {\n",
       "        text-align: right;\n",
       "    }\n",
       "</style>\n",
       "<table border=\"1\" class=\"dataframe\">\n",
       "  <thead>\n",
       "    <tr style=\"text-align: right;\">\n",
       "      <th>metric</th>\n",
       "      <th>precision</th>\n",
       "      <th>recall</th>\n",
       "      <th>F1</th>\n",
       "      <th>support</th>\n",
       "      <th>CI Precision</th>\n",
       "      <th>CI Recall</th>\n",
       "      <th>CI F1</th>\n",
       "    </tr>\n",
       "    <tr>\n",
       "      <th>model</th>\n",
       "      <th></th>\n",
       "      <th></th>\n",
       "      <th></th>\n",
       "      <th></th>\n",
       "      <th></th>\n",
       "      <th></th>\n",
       "      <th></th>\n",
       "    </tr>\n",
       "  </thead>\n",
       "  <tbody>\n",
       "    <tr>\n",
       "      <th>pelt</th>\n",
       "      <td>0.58</td>\n",
       "      <td>0.19</td>\n",
       "      <td>0.21</td>\n",
       "      <td>6347</td>\n",
       "      <td>0.56-0.6</td>\n",
       "      <td>0.17-0.21</td>\n",
       "      <td>0.19-0.23</td>\n",
       "    </tr>\n",
       "    <tr>\n",
       "      <th>bottomup</th>\n",
       "      <td>0.33</td>\n",
       "      <td>1.0</td>\n",
       "      <td>0.47</td>\n",
       "      <td>6347</td>\n",
       "      <td>0.32-0.34</td>\n",
       "      <td>1.0-1.0</td>\n",
       "      <td>0.46-0.48</td>\n",
       "    </tr>\n",
       "    <tr>\n",
       "      <th>binary</th>\n",
       "      <td>0.33</td>\n",
       "      <td>1.0</td>\n",
       "      <td>0.47</td>\n",
       "      <td>6347</td>\n",
       "      <td>0.32-0.34</td>\n",
       "      <td>1.0-1.0</td>\n",
       "      <td>0.46-0.48</td>\n",
       "    </tr>\n",
       "    <tr>\n",
       "      <th>windowed</th>\n",
       "      <td>0.76</td>\n",
       "      <td>0.09</td>\n",
       "      <td>0.12</td>\n",
       "      <td>6347</td>\n",
       "      <td>0.7-0.82</td>\n",
       "      <td>0.05-0.13</td>\n",
       "      <td>0.07-0.17</td>\n",
       "    </tr>\n",
       "  </tbody>\n",
       "</table>\n",
       "</div>"
      ],
      "text/plain": [
       "metric   precision recall    F1 support CI Precision  CI Recall      CI F1\n",
       "model                                                                     \n",
       "pelt          0.58   0.19  0.21    6347     0.56-0.6  0.17-0.21  0.19-0.23\n",
       "bottomup      0.33    1.0  0.47    6347    0.32-0.34    1.0-1.0  0.46-0.48\n",
       "binary        0.33    1.0  0.47    6347    0.32-0.34    1.0-1.0  0.46-0.48\n",
       "windowed      0.76   0.09  0.12    6347     0.7-0.82  0.05-0.13  0.07-0.17"
      ]
     },
     "execution_count": 34,
     "metadata": {},
     "output_type": "execute_result"
    }
   ],
   "source": [
    "D1_image_standard_results_k = experiment(D1_test, D1_standard_image_vectors, known_k=True)\n",
    "D1_image_standard_results_k[:].loc['Boundary', :].unstack()\n",
    "\n",
    "D1_image_standard_results_no_k = experiment(D1_test, D1_standard_image_vectors, known_k=False, penalty=0.5)\n",
    "D1_image_standard_results_no_k[:].loc['Boundary', :].unstack()"
   ]
  },
  {
   "cell_type": "code",
   "execution_count": 39,
   "id": "c39c959d-0f7c-4d31-b2dd-f98fc71ed057",
   "metadata": {},
   "outputs": [
    {
     "data": {
      "text/html": [
       "<div>\n",
       "<style scoped>\n",
       "    .dataframe tbody tr th:only-of-type {\n",
       "        vertical-align: middle;\n",
       "    }\n",
       "\n",
       "    .dataframe tbody tr th {\n",
       "        vertical-align: top;\n",
       "    }\n",
       "\n",
       "    .dataframe thead th {\n",
       "        text-align: right;\n",
       "    }\n",
       "</style>\n",
       "<table border=\"1\" class=\"dataframe\">\n",
       "  <thead>\n",
       "    <tr style=\"text-align: right;\">\n",
       "      <th>metric</th>\n",
       "      <th>precision</th>\n",
       "      <th>recall</th>\n",
       "      <th>F1</th>\n",
       "      <th>support</th>\n",
       "      <th>CI Precision</th>\n",
       "      <th>CI Recall</th>\n",
       "      <th>CI F1</th>\n",
       "    </tr>\n",
       "    <tr>\n",
       "      <th>model</th>\n",
       "      <th></th>\n",
       "      <th></th>\n",
       "      <th></th>\n",
       "      <th></th>\n",
       "      <th></th>\n",
       "      <th></th>\n",
       "      <th></th>\n",
       "    </tr>\n",
       "  </thead>\n",
       "  <tbody>\n",
       "    <tr>\n",
       "      <th>dynamic</th>\n",
       "      <td>0.48</td>\n",
       "      <td>0.48</td>\n",
       "      <td>0.48</td>\n",
       "      <td>6347</td>\n",
       "      <td>0.47-0.49</td>\n",
       "      <td>0.47-0.49</td>\n",
       "      <td>0.47-0.49</td>\n",
       "    </tr>\n",
       "    <tr>\n",
       "      <th>bottomup</th>\n",
       "      <td>0.48</td>\n",
       "      <td>0.48</td>\n",
       "      <td>0.48</td>\n",
       "      <td>6347</td>\n",
       "      <td>0.47-0.49</td>\n",
       "      <td>0.47-0.49</td>\n",
       "      <td>0.47-0.49</td>\n",
       "    </tr>\n",
       "    <tr>\n",
       "      <th>binary</th>\n",
       "      <td>0.49</td>\n",
       "      <td>0.49</td>\n",
       "      <td>0.49</td>\n",
       "      <td>6347</td>\n",
       "      <td>0.48-0.5</td>\n",
       "      <td>0.48-0.5</td>\n",
       "      <td>0.48-0.5</td>\n",
       "    </tr>\n",
       "    <tr>\n",
       "      <th>windowed</th>\n",
       "      <td>0.76</td>\n",
       "      <td>0.09</td>\n",
       "      <td>0.12</td>\n",
       "      <td>6347</td>\n",
       "      <td>0.7-0.82</td>\n",
       "      <td>0.05-0.13</td>\n",
       "      <td>0.07-0.17</td>\n",
       "    </tr>\n",
       "  </tbody>\n",
       "</table>\n",
       "</div>"
      ],
      "text/plain": [
       "metric   precision recall    F1 support CI Precision  CI Recall      CI F1\n",
       "model                                                                     \n",
       "dynamic       0.48   0.48  0.48    6347    0.47-0.49  0.47-0.49  0.47-0.49\n",
       "bottomup      0.48   0.48  0.48    6347    0.47-0.49  0.47-0.49  0.47-0.49\n",
       "binary        0.49   0.49  0.49    6347     0.48-0.5   0.48-0.5   0.48-0.5\n",
       "windowed      0.76   0.09  0.12    6347     0.7-0.82  0.05-0.13  0.07-0.17"
      ]
     },
     "execution_count": 39,
     "metadata": {},
     "output_type": "execute_result"
    }
   ],
   "source": [
    "D1_image_standard_results_k[:].loc['Boundary', :].unstack()"
   ]
  },
  {
   "cell_type": "code",
   "execution_count": 37,
   "id": "82967f38-c3b6-4be2-b2fb-a93db3051851",
   "metadata": {},
   "outputs": [
    {
     "name": "stdout",
     "output_type": "stream",
     "text": [
      "dynamic\n"
     ]
    },
    {
     "name": "stderr",
     "output_type": "stream",
     "text": [
      "100%|██████████| 108/108 [00:12<00:00,  8.64it/s]\n"
     ]
    },
    {
     "name": "stdout",
     "output_type": "stream",
     "text": [
      "bottomup\n"
     ]
    },
    {
     "name": "stderr",
     "output_type": "stream",
     "text": [
      "100%|██████████| 108/108 [00:03<00:00, 33.68it/s]\n"
     ]
    },
    {
     "name": "stdout",
     "output_type": "stream",
     "text": [
      "binary\n"
     ]
    },
    {
     "name": "stderr",
     "output_type": "stream",
     "text": [
      "100%|██████████| 108/108 [01:07<00:00,  1.61it/s]\n"
     ]
    },
    {
     "name": "stdout",
     "output_type": "stream",
     "text": [
      "windowed\n"
     ]
    },
    {
     "name": "stderr",
     "output_type": "stream",
     "text": [
      "100%|██████████| 108/108 [00:05<00:00, 19.37it/s]\n"
     ]
    },
    {
     "name": "stdout",
     "output_type": "stream",
     "text": [
      "pelt\n"
     ]
    },
    {
     "name": "stderr",
     "output_type": "stream",
     "text": [
      "100%|██████████| 108/108 [00:01<00:00, 70.02it/s] \n"
     ]
    },
    {
     "name": "stdout",
     "output_type": "stream",
     "text": [
      "bottomup\n"
     ]
    },
    {
     "name": "stderr",
     "output_type": "stream",
     "text": [
      "100%|██████████| 108/108 [00:01<00:00, 94.11it/s]\n"
     ]
    },
    {
     "name": "stdout",
     "output_type": "stream",
     "text": [
      "binary\n"
     ]
    },
    {
     "name": "stderr",
     "output_type": "stream",
     "text": [
      "100%|██████████| 108/108 [01:17<00:00,  1.39it/s]\n"
     ]
    },
    {
     "name": "stdout",
     "output_type": "stream",
     "text": [
      "windowed\n"
     ]
    },
    {
     "name": "stderr",
     "output_type": "stream",
     "text": [
      "100%|██████████| 108/108 [00:05<00:00, 19.02it/s]\n"
     ]
    },
    {
     "data": {
      "text/html": [
       "<div>\n",
       "<style scoped>\n",
       "    .dataframe tbody tr th:only-of-type {\n",
       "        vertical-align: middle;\n",
       "    }\n",
       "\n",
       "    .dataframe tbody tr th {\n",
       "        vertical-align: top;\n",
       "    }\n",
       "\n",
       "    .dataframe thead th {\n",
       "        text-align: right;\n",
       "    }\n",
       "</style>\n",
       "<table border=\"1\" class=\"dataframe\">\n",
       "  <thead>\n",
       "    <tr style=\"text-align: right;\">\n",
       "      <th>metric</th>\n",
       "      <th>precision</th>\n",
       "      <th>recall</th>\n",
       "      <th>F1</th>\n",
       "      <th>support</th>\n",
       "      <th>CI Precision</th>\n",
       "      <th>CI Recall</th>\n",
       "      <th>CI F1</th>\n",
       "    </tr>\n",
       "    <tr>\n",
       "      <th>model</th>\n",
       "      <th></th>\n",
       "      <th></th>\n",
       "      <th></th>\n",
       "      <th></th>\n",
       "      <th></th>\n",
       "      <th></th>\n",
       "      <th></th>\n",
       "    </tr>\n",
       "  </thead>\n",
       "  <tbody>\n",
       "    <tr>\n",
       "      <th>pelt</th>\n",
       "      <td>0.57</td>\n",
       "      <td>0.5</td>\n",
       "      <td>0.46</td>\n",
       "      <td>1404</td>\n",
       "      <td>0.55-0.59</td>\n",
       "      <td>0.48-0.52</td>\n",
       "      <td>0.44-0.48</td>\n",
       "    </tr>\n",
       "    <tr>\n",
       "      <th>bottomup</th>\n",
       "      <td>0.26</td>\n",
       "      <td>1.0</td>\n",
       "      <td>0.39</td>\n",
       "      <td>1404</td>\n",
       "      <td>0.25-0.27</td>\n",
       "      <td>1.0-1.0</td>\n",
       "      <td>0.38-0.4</td>\n",
       "    </tr>\n",
       "    <tr>\n",
       "      <th>binary</th>\n",
       "      <td>0.26</td>\n",
       "      <td>1.0</td>\n",
       "      <td>0.39</td>\n",
       "      <td>1404</td>\n",
       "      <td>0.25-0.27</td>\n",
       "      <td>1.0-1.0</td>\n",
       "      <td>0.38-0.4</td>\n",
       "    </tr>\n",
       "    <tr>\n",
       "      <th>windowed</th>\n",
       "      <td>0.89</td>\n",
       "      <td>0.31</td>\n",
       "      <td>0.41</td>\n",
       "      <td>1404</td>\n",
       "      <td>0.8-0.98</td>\n",
       "      <td>0.18-0.44</td>\n",
       "      <td>0.28-0.54</td>\n",
       "    </tr>\n",
       "  </tbody>\n",
       "</table>\n",
       "</div>"
      ],
      "text/plain": [
       "metric   precision recall    F1 support CI Precision  CI Recall      CI F1\n",
       "model                                                                     \n",
       "pelt          0.57    0.5  0.46    1404    0.55-0.59  0.48-0.52  0.44-0.48\n",
       "bottomup      0.26    1.0  0.39    1404    0.25-0.27    1.0-1.0   0.38-0.4\n",
       "binary        0.26    1.0  0.39    1404    0.25-0.27    1.0-1.0   0.38-0.4\n",
       "windowed      0.89   0.31  0.41    1404     0.8-0.98  0.18-0.44  0.28-0.54"
      ]
     },
     "execution_count": 37,
     "metadata": {},
     "output_type": "execute_result"
    }
   ],
   "source": [
    "D2_image_standard_results_k = experiment(D2_test, D2_standard_image_vectors, known_k=True)\n",
    "D2_image_standard_results_k[:].loc['Boundary', :].unstack()\n",
    "\n",
    "D2_image_standard_results_no_k = experiment(D2_test, D2_standard_image_vectors, known_k=False, penalty=0.5)\n",
    "D2_image_standard_results_no_k[:].loc['Boundary', :].unstack()"
   ]
  },
  {
   "cell_type": "code",
   "execution_count": 38,
   "id": "e9d27589-d7b9-4c2b-b598-04b27efde00a",
   "metadata": {},
   "outputs": [
    {
     "data": {
      "text/html": [
       "<div>\n",
       "<style scoped>\n",
       "    .dataframe tbody tr th:only-of-type {\n",
       "        vertical-align: middle;\n",
       "    }\n",
       "\n",
       "    .dataframe tbody tr th {\n",
       "        vertical-align: top;\n",
       "    }\n",
       "\n",
       "    .dataframe thead th {\n",
       "        text-align: right;\n",
       "    }\n",
       "</style>\n",
       "<table border=\"1\" class=\"dataframe\">\n",
       "  <thead>\n",
       "    <tr style=\"text-align: right;\">\n",
       "      <th>metric</th>\n",
       "      <th>precision</th>\n",
       "      <th>recall</th>\n",
       "      <th>F1</th>\n",
       "      <th>support</th>\n",
       "      <th>CI Precision</th>\n",
       "      <th>CI Recall</th>\n",
       "      <th>CI F1</th>\n",
       "    </tr>\n",
       "    <tr>\n",
       "      <th>model</th>\n",
       "      <th></th>\n",
       "      <th></th>\n",
       "      <th></th>\n",
       "      <th></th>\n",
       "      <th></th>\n",
       "      <th></th>\n",
       "      <th></th>\n",
       "    </tr>\n",
       "  </thead>\n",
       "  <tbody>\n",
       "    <tr>\n",
       "      <th>dynamic</th>\n",
       "      <td>0.53</td>\n",
       "      <td>0.53</td>\n",
       "      <td>0.53</td>\n",
       "      <td>1404</td>\n",
       "      <td>0.5-0.56</td>\n",
       "      <td>0.5-0.56</td>\n",
       "      <td>0.5-0.56</td>\n",
       "    </tr>\n",
       "    <tr>\n",
       "      <th>bottomup</th>\n",
       "      <td>0.52</td>\n",
       "      <td>0.52</td>\n",
       "      <td>0.52</td>\n",
       "      <td>1404</td>\n",
       "      <td>0.49-0.55</td>\n",
       "      <td>0.49-0.55</td>\n",
       "      <td>0.49-0.55</td>\n",
       "    </tr>\n",
       "    <tr>\n",
       "      <th>binary</th>\n",
       "      <td>0.51</td>\n",
       "      <td>0.51</td>\n",
       "      <td>0.51</td>\n",
       "      <td>1404</td>\n",
       "      <td>0.48-0.54</td>\n",
       "      <td>0.48-0.54</td>\n",
       "      <td>0.48-0.54</td>\n",
       "    </tr>\n",
       "    <tr>\n",
       "      <th>windowed</th>\n",
       "      <td>0.89</td>\n",
       "      <td>0.31</td>\n",
       "      <td>0.41</td>\n",
       "      <td>1404</td>\n",
       "      <td>0.81-0.97</td>\n",
       "      <td>0.19-0.43</td>\n",
       "      <td>0.29-0.53</td>\n",
       "    </tr>\n",
       "  </tbody>\n",
       "</table>\n",
       "</div>"
      ],
      "text/plain": [
       "metric   precision recall    F1 support CI Precision  CI Recall      CI F1\n",
       "model                                                                     \n",
       "dynamic       0.53   0.53  0.53    1404     0.5-0.56   0.5-0.56   0.5-0.56\n",
       "bottomup      0.52   0.52  0.52    1404    0.49-0.55  0.49-0.55  0.49-0.55\n",
       "binary        0.51   0.51  0.51    1404    0.48-0.54  0.48-0.54  0.48-0.54\n",
       "windowed      0.89   0.31  0.41    1404    0.81-0.97  0.19-0.43  0.29-0.53"
      ]
     },
     "execution_count": 38,
     "metadata": {},
     "output_type": "execute_result"
    }
   ],
   "source": [
    "D2_image_standard_results_k[:].loc['Boundary', :].unstack()"
   ]
  },
  {
   "cell_type": "markdown",
   "id": "0d9f6c66-8d33-4626-a33a-e99e5a1268f5",
   "metadata": {},
   "source": [
    "### Text Vectors"
   ]
  },
  {
   "cell_type": "code",
   "execution_count": 40,
   "id": "379faaeb-5975-4ca0-ac53-749ef6b485a5",
   "metadata": {},
   "outputs": [
    {
     "name": "stdout",
     "output_type": "stream",
     "text": [
      "dynamic\n"
     ]
    },
    {
     "name": "stderr",
     "output_type": "stream",
     "text": [
      "100%|██████████| 34/34 [00:56<00:00,  1.67s/it]\n"
     ]
    },
    {
     "name": "stdout",
     "output_type": "stream",
     "text": [
      "bottomup\n"
     ]
    },
    {
     "name": "stderr",
     "output_type": "stream",
     "text": [
      "100%|██████████| 34/34 [00:07<00:00,  4.65it/s]\n"
     ]
    },
    {
     "name": "stdout",
     "output_type": "stream",
     "text": [
      "binary\n"
     ]
    },
    {
     "name": "stderr",
     "output_type": "stream",
     "text": [
      "100%|██████████| 34/34 [03:02<00:00,  5.38s/it]\n"
     ]
    },
    {
     "name": "stdout",
     "output_type": "stream",
     "text": [
      "windowed\n"
     ]
    },
    {
     "name": "stderr",
     "output_type": "stream",
     "text": [
      "100%|██████████| 34/34 [00:05<00:00,  6.32it/s]\n"
     ]
    },
    {
     "name": "stdout",
     "output_type": "stream",
     "text": [
      "pelt\n"
     ]
    },
    {
     "name": "stderr",
     "output_type": "stream",
     "text": [
      "100%|██████████| 34/34 [00:02<00:00, 13.43it/s]\n"
     ]
    },
    {
     "name": "stdout",
     "output_type": "stream",
     "text": [
      "bottomup\n"
     ]
    },
    {
     "name": "stderr",
     "output_type": "stream",
     "text": [
      "100%|██████████| 34/34 [00:05<00:00,  6.48it/s]\n"
     ]
    },
    {
     "name": "stdout",
     "output_type": "stream",
     "text": [
      "binary\n"
     ]
    },
    {
     "name": "stderr",
     "output_type": "stream",
     "text": [
      "100%|██████████| 34/34 [04:04<00:00,  7.18s/it]\n"
     ]
    },
    {
     "name": "stdout",
     "output_type": "stream",
     "text": [
      "windowed\n"
     ]
    },
    {
     "name": "stderr",
     "output_type": "stream",
     "text": [
      "100%|██████████| 34/34 [00:06<00:00,  5.32it/s]\n"
     ]
    },
    {
     "data": {
      "text/html": [
       "<div>\n",
       "<style scoped>\n",
       "    .dataframe tbody tr th:only-of-type {\n",
       "        vertical-align: middle;\n",
       "    }\n",
       "\n",
       "    .dataframe tbody tr th {\n",
       "        vertical-align: top;\n",
       "    }\n",
       "\n",
       "    .dataframe thead th {\n",
       "        text-align: right;\n",
       "    }\n",
       "</style>\n",
       "<table border=\"1\" class=\"dataframe\">\n",
       "  <thead>\n",
       "    <tr style=\"text-align: right;\">\n",
       "      <th>metric</th>\n",
       "      <th>precision</th>\n",
       "      <th>recall</th>\n",
       "      <th>F1</th>\n",
       "      <th>support</th>\n",
       "      <th>CI Precision</th>\n",
       "      <th>CI Recall</th>\n",
       "      <th>CI F1</th>\n",
       "    </tr>\n",
       "    <tr>\n",
       "      <th>model</th>\n",
       "      <th></th>\n",
       "      <th></th>\n",
       "      <th></th>\n",
       "      <th></th>\n",
       "      <th></th>\n",
       "      <th></th>\n",
       "      <th></th>\n",
       "    </tr>\n",
       "  </thead>\n",
       "  <tbody>\n",
       "    <tr>\n",
       "      <th>pelt</th>\n",
       "      <td>0.65</td>\n",
       "      <td>0.12</td>\n",
       "      <td>0.14</td>\n",
       "      <td>6347</td>\n",
       "      <td>0.62-0.68</td>\n",
       "      <td>0.1-0.14</td>\n",
       "      <td>0.12-0.16</td>\n",
       "    </tr>\n",
       "    <tr>\n",
       "      <th>bottomup</th>\n",
       "      <td>0.33</td>\n",
       "      <td>1.0</td>\n",
       "      <td>0.47</td>\n",
       "      <td>6347</td>\n",
       "      <td>0.32-0.34</td>\n",
       "      <td>1.0-1.0</td>\n",
       "      <td>0.46-0.48</td>\n",
       "    </tr>\n",
       "    <tr>\n",
       "      <th>binary</th>\n",
       "      <td>0.33</td>\n",
       "      <td>1.0</td>\n",
       "      <td>0.47</td>\n",
       "      <td>6347</td>\n",
       "      <td>0.32-0.34</td>\n",
       "      <td>1.0-1.0</td>\n",
       "      <td>0.46-0.48</td>\n",
       "    </tr>\n",
       "    <tr>\n",
       "      <th>windowed</th>\n",
       "      <td>0.82</td>\n",
       "      <td>0.09</td>\n",
       "      <td>0.12</td>\n",
       "      <td>6347</td>\n",
       "      <td>0.76-0.88</td>\n",
       "      <td>0.05-0.13</td>\n",
       "      <td>0.07-0.17</td>\n",
       "    </tr>\n",
       "  </tbody>\n",
       "</table>\n",
       "</div>"
      ],
      "text/plain": [
       "metric   precision recall    F1 support CI Precision  CI Recall      CI F1\n",
       "model                                                                     \n",
       "pelt          0.65   0.12  0.14    6347    0.62-0.68   0.1-0.14  0.12-0.16\n",
       "bottomup      0.33    1.0  0.47    6347    0.32-0.34    1.0-1.0  0.46-0.48\n",
       "binary        0.33    1.0  0.47    6347    0.32-0.34    1.0-1.0  0.46-0.48\n",
       "windowed      0.82   0.09  0.12    6347    0.76-0.88  0.05-0.13  0.07-0.17"
      ]
     },
     "execution_count": 40,
     "metadata": {},
     "output_type": "execute_result"
    }
   ],
   "source": [
    "D1_text_standard_results_k = experiment(D1_test, D1_standard_text_vectors, known_k=True)\n",
    "D1_text_standard_results_k[:].loc['Boundary', :].unstack()\n",
    "\n",
    "D1_text_standard_results_no_k = experiment(D1_test, D1_standard_text_vectors, known_k=False, penalty=0.5)\n",
    "D1_text_standard_results_no_k[:].loc['Boundary', :].unstack()"
   ]
  },
  {
   "cell_type": "code",
   "execution_count": 41,
   "id": "1c8c5e99-a9ac-45e2-b713-14bfad1a87cb",
   "metadata": {},
   "outputs": [
    {
     "data": {
      "text/html": [
       "<div>\n",
       "<style scoped>\n",
       "    .dataframe tbody tr th:only-of-type {\n",
       "        vertical-align: middle;\n",
       "    }\n",
       "\n",
       "    .dataframe tbody tr th {\n",
       "        vertical-align: top;\n",
       "    }\n",
       "\n",
       "    .dataframe thead th {\n",
       "        text-align: right;\n",
       "    }\n",
       "</style>\n",
       "<table border=\"1\" class=\"dataframe\">\n",
       "  <thead>\n",
       "    <tr style=\"text-align: right;\">\n",
       "      <th>metric</th>\n",
       "      <th>precision</th>\n",
       "      <th>recall</th>\n",
       "      <th>F1</th>\n",
       "      <th>support</th>\n",
       "      <th>CI Precision</th>\n",
       "      <th>CI Recall</th>\n",
       "      <th>CI F1</th>\n",
       "    </tr>\n",
       "    <tr>\n",
       "      <th>model</th>\n",
       "      <th></th>\n",
       "      <th></th>\n",
       "      <th></th>\n",
       "      <th></th>\n",
       "      <th></th>\n",
       "      <th></th>\n",
       "      <th></th>\n",
       "    </tr>\n",
       "  </thead>\n",
       "  <tbody>\n",
       "    <tr>\n",
       "      <th>dynamic</th>\n",
       "      <td>0.48</td>\n",
       "      <td>0.48</td>\n",
       "      <td>0.48</td>\n",
       "      <td>6347</td>\n",
       "      <td>0.47-0.49</td>\n",
       "      <td>0.47-0.49</td>\n",
       "      <td>0.47-0.49</td>\n",
       "    </tr>\n",
       "    <tr>\n",
       "      <th>bottomup</th>\n",
       "      <td>0.47</td>\n",
       "      <td>0.47</td>\n",
       "      <td>0.47</td>\n",
       "      <td>6347</td>\n",
       "      <td>0.46-0.48</td>\n",
       "      <td>0.46-0.48</td>\n",
       "      <td>0.46-0.48</td>\n",
       "    </tr>\n",
       "    <tr>\n",
       "      <th>binary</th>\n",
       "      <td>0.47</td>\n",
       "      <td>0.47</td>\n",
       "      <td>0.47</td>\n",
       "      <td>6347</td>\n",
       "      <td>0.46-0.48</td>\n",
       "      <td>0.46-0.48</td>\n",
       "      <td>0.46-0.48</td>\n",
       "    </tr>\n",
       "    <tr>\n",
       "      <th>windowed</th>\n",
       "      <td>0.82</td>\n",
       "      <td>0.09</td>\n",
       "      <td>0.12</td>\n",
       "      <td>6347</td>\n",
       "      <td>0.76-0.88</td>\n",
       "      <td>0.05-0.13</td>\n",
       "      <td>0.07-0.17</td>\n",
       "    </tr>\n",
       "  </tbody>\n",
       "</table>\n",
       "</div>"
      ],
      "text/plain": [
       "metric   precision recall    F1 support CI Precision  CI Recall      CI F1\n",
       "model                                                                     \n",
       "dynamic       0.48   0.48  0.48    6347    0.47-0.49  0.47-0.49  0.47-0.49\n",
       "bottomup      0.47   0.47  0.47    6347    0.46-0.48  0.46-0.48  0.46-0.48\n",
       "binary        0.47   0.47  0.47    6347    0.46-0.48  0.46-0.48  0.46-0.48\n",
       "windowed      0.82   0.09  0.12    6347    0.76-0.88  0.05-0.13  0.07-0.17"
      ]
     },
     "execution_count": 41,
     "metadata": {},
     "output_type": "execute_result"
    }
   ],
   "source": [
    "D1_text_standard_results_k[:].loc['Boundary', :].unstack()"
   ]
  },
  {
   "cell_type": "code",
   "execution_count": 42,
   "id": "77b9c56c-b880-43f5-b9ce-f9239901918b",
   "metadata": {},
   "outputs": [
    {
     "name": "stdout",
     "output_type": "stream",
     "text": [
      "dynamic\n"
     ]
    },
    {
     "name": "stderr",
     "output_type": "stream",
     "text": [
      "100%|██████████| 108/108 [00:02<00:00, 43.49it/s]\n"
     ]
    },
    {
     "name": "stdout",
     "output_type": "stream",
     "text": [
      "bottomup\n"
     ]
    },
    {
     "name": "stderr",
     "output_type": "stream",
     "text": [
      "100%|██████████| 108/108 [00:02<00:00, 49.55it/s]\n"
     ]
    },
    {
     "name": "stdout",
     "output_type": "stream",
     "text": [
      "binary\n"
     ]
    },
    {
     "name": "stderr",
     "output_type": "stream",
     "text": [
      "100%|██████████| 108/108 [00:11<00:00,  9.69it/s]\n"
     ]
    },
    {
     "name": "stdout",
     "output_type": "stream",
     "text": [
      "windowed\n"
     ]
    },
    {
     "name": "stderr",
     "output_type": "stream",
     "text": [
      "100%|██████████| 108/108 [00:01<00:00, 69.98it/s]\n"
     ]
    },
    {
     "name": "stdout",
     "output_type": "stream",
     "text": [
      "pelt\n"
     ]
    },
    {
     "name": "stderr",
     "output_type": "stream",
     "text": [
      "100%|██████████| 108/108 [00:00<00:00, 135.09it/s]\n"
     ]
    },
    {
     "name": "stdout",
     "output_type": "stream",
     "text": [
      "bottomup\n"
     ]
    },
    {
     "name": "stderr",
     "output_type": "stream",
     "text": [
      "100%|██████████| 108/108 [00:01<00:00, 95.63it/s]\n"
     ]
    },
    {
     "name": "stdout",
     "output_type": "stream",
     "text": [
      "binary\n"
     ]
    },
    {
     "name": "stderr",
     "output_type": "stream",
     "text": [
      "100%|██████████| 108/108 [00:16<00:00,  6.54it/s]\n"
     ]
    },
    {
     "name": "stdout",
     "output_type": "stream",
     "text": [
      "windowed\n"
     ]
    },
    {
     "name": "stderr",
     "output_type": "stream",
     "text": [
      "100%|██████████| 108/108 [00:01<00:00, 73.78it/s]\n"
     ]
    },
    {
     "data": {
      "text/html": [
       "<div>\n",
       "<style scoped>\n",
       "    .dataframe tbody tr th:only-of-type {\n",
       "        vertical-align: middle;\n",
       "    }\n",
       "\n",
       "    .dataframe tbody tr th {\n",
       "        vertical-align: top;\n",
       "    }\n",
       "\n",
       "    .dataframe thead th {\n",
       "        text-align: right;\n",
       "    }\n",
       "</style>\n",
       "<table border=\"1\" class=\"dataframe\">\n",
       "  <thead>\n",
       "    <tr style=\"text-align: right;\">\n",
       "      <th>metric</th>\n",
       "      <th>precision</th>\n",
       "      <th>recall</th>\n",
       "      <th>F1</th>\n",
       "      <th>support</th>\n",
       "      <th>CI Precision</th>\n",
       "      <th>CI Recall</th>\n",
       "      <th>CI F1</th>\n",
       "    </tr>\n",
       "    <tr>\n",
       "      <th>model</th>\n",
       "      <th></th>\n",
       "      <th></th>\n",
       "      <th></th>\n",
       "      <th></th>\n",
       "      <th></th>\n",
       "      <th></th>\n",
       "      <th></th>\n",
       "    </tr>\n",
       "  </thead>\n",
       "  <tbody>\n",
       "    <tr>\n",
       "      <th>pelt</th>\n",
       "      <td>0.73</td>\n",
       "      <td>0.35</td>\n",
       "      <td>0.42</td>\n",
       "      <td>1404</td>\n",
       "      <td>0.69-0.77</td>\n",
       "      <td>0.3-0.4</td>\n",
       "      <td>0.37-0.47</td>\n",
       "    </tr>\n",
       "    <tr>\n",
       "      <th>bottomup</th>\n",
       "      <td>0.26</td>\n",
       "      <td>1.0</td>\n",
       "      <td>0.39</td>\n",
       "      <td>1404</td>\n",
       "      <td>0.25-0.27</td>\n",
       "      <td>1.0-1.0</td>\n",
       "      <td>0.38-0.4</td>\n",
       "    </tr>\n",
       "    <tr>\n",
       "      <th>binary</th>\n",
       "      <td>0.26</td>\n",
       "      <td>1.0</td>\n",
       "      <td>0.39</td>\n",
       "      <td>1404</td>\n",
       "      <td>0.25-0.27</td>\n",
       "      <td>1.0-1.0</td>\n",
       "      <td>0.38-0.4</td>\n",
       "    </tr>\n",
       "    <tr>\n",
       "      <th>windowed</th>\n",
       "      <td>0.89</td>\n",
       "      <td>0.31</td>\n",
       "      <td>0.4</td>\n",
       "      <td>1404</td>\n",
       "      <td>0.8-0.98</td>\n",
       "      <td>0.18-0.44</td>\n",
       "      <td>0.26-0.54</td>\n",
       "    </tr>\n",
       "  </tbody>\n",
       "</table>\n",
       "</div>"
      ],
      "text/plain": [
       "metric   precision recall    F1 support CI Precision  CI Recall      CI F1\n",
       "model                                                                     \n",
       "pelt          0.73   0.35  0.42    1404    0.69-0.77    0.3-0.4  0.37-0.47\n",
       "bottomup      0.26    1.0  0.39    1404    0.25-0.27    1.0-1.0   0.38-0.4\n",
       "binary        0.26    1.0  0.39    1404    0.25-0.27    1.0-1.0   0.38-0.4\n",
       "windowed      0.89   0.31   0.4    1404     0.8-0.98  0.18-0.44  0.26-0.54"
      ]
     },
     "execution_count": 42,
     "metadata": {},
     "output_type": "execute_result"
    }
   ],
   "source": [
    "D2_text_standard_results_k = experiment(D2_test, D2_standard_text_vectors, known_k=True)\n",
    "D2_text_standard_results_k[:].loc['Boundary', :].unstack()\n",
    "\n",
    "D2_text_standard_results_no_k = experiment(D2_test, D2_standard_text_vectors, known_k=False, penalty=0.5)\n",
    "D2_text_standard_results_no_k[:].loc['Boundary', :].unstack()"
   ]
  },
  {
   "cell_type": "code",
   "execution_count": 43,
   "id": "5dbb73ff-6a0b-4f34-811d-84ce770e8b1f",
   "metadata": {},
   "outputs": [
    {
     "data": {
      "text/html": [
       "<div>\n",
       "<style scoped>\n",
       "    .dataframe tbody tr th:only-of-type {\n",
       "        vertical-align: middle;\n",
       "    }\n",
       "\n",
       "    .dataframe tbody tr th {\n",
       "        vertical-align: top;\n",
       "    }\n",
       "\n",
       "    .dataframe thead th {\n",
       "        text-align: right;\n",
       "    }\n",
       "</style>\n",
       "<table border=\"1\" class=\"dataframe\">\n",
       "  <thead>\n",
       "    <tr style=\"text-align: right;\">\n",
       "      <th>metric</th>\n",
       "      <th>precision</th>\n",
       "      <th>recall</th>\n",
       "      <th>F1</th>\n",
       "      <th>support</th>\n",
       "      <th>CI Precision</th>\n",
       "      <th>CI Recall</th>\n",
       "      <th>CI F1</th>\n",
       "    </tr>\n",
       "    <tr>\n",
       "      <th>model</th>\n",
       "      <th></th>\n",
       "      <th></th>\n",
       "      <th></th>\n",
       "      <th></th>\n",
       "      <th></th>\n",
       "      <th></th>\n",
       "      <th></th>\n",
       "    </tr>\n",
       "  </thead>\n",
       "  <tbody>\n",
       "    <tr>\n",
       "      <th>dynamic</th>\n",
       "      <td>0.54</td>\n",
       "      <td>0.54</td>\n",
       "      <td>0.54</td>\n",
       "      <td>1404</td>\n",
       "      <td>0.51-0.57</td>\n",
       "      <td>0.51-0.57</td>\n",
       "      <td>0.51-0.57</td>\n",
       "    </tr>\n",
       "    <tr>\n",
       "      <th>bottomup</th>\n",
       "      <td>0.55</td>\n",
       "      <td>0.55</td>\n",
       "      <td>0.55</td>\n",
       "      <td>1404</td>\n",
       "      <td>0.52-0.58</td>\n",
       "      <td>0.52-0.58</td>\n",
       "      <td>0.52-0.58</td>\n",
       "    </tr>\n",
       "    <tr>\n",
       "      <th>binary</th>\n",
       "      <td>0.55</td>\n",
       "      <td>0.55</td>\n",
       "      <td>0.55</td>\n",
       "      <td>1404</td>\n",
       "      <td>0.52-0.58</td>\n",
       "      <td>0.52-0.58</td>\n",
       "      <td>0.52-0.58</td>\n",
       "    </tr>\n",
       "    <tr>\n",
       "      <th>windowed</th>\n",
       "      <td>0.89</td>\n",
       "      <td>0.31</td>\n",
       "      <td>0.41</td>\n",
       "      <td>1404</td>\n",
       "      <td>0.81-0.97</td>\n",
       "      <td>0.19-0.43</td>\n",
       "      <td>0.28-0.54</td>\n",
       "    </tr>\n",
       "  </tbody>\n",
       "</table>\n",
       "</div>"
      ],
      "text/plain": [
       "metric   precision recall    F1 support CI Precision  CI Recall      CI F1\n",
       "model                                                                     \n",
       "dynamic       0.54   0.54  0.54    1404    0.51-0.57  0.51-0.57  0.51-0.57\n",
       "bottomup      0.55   0.55  0.55    1404    0.52-0.58  0.52-0.58  0.52-0.58\n",
       "binary        0.55   0.55  0.55    1404    0.52-0.58  0.52-0.58  0.52-0.58\n",
       "windowed      0.89   0.31  0.41    1404    0.81-0.97  0.19-0.43  0.28-0.54"
      ]
     },
     "execution_count": 43,
     "metadata": {},
     "output_type": "execute_result"
    }
   ],
   "source": [
    "D2_text_standard_results_k[:].loc['Boundary', :].unstack()"
   ]
  },
  {
   "cell_type": "code",
   "execution_count": 57,
   "id": "85381272-8fc2-4c07-ae84-e66177b7da6b",
   "metadata": {},
   "outputs": [],
   "source": [
    "def save_json(filename, json_dict):\n",
    "    with open(filename, 'w') as file:\n",
    "        \n",
    "        json.dump({key:list(value) for key, value in json_dict.items()}, file)\n",
    "    return None"
   ]
  },
  {
   "cell_type": "markdown",
   "id": "55dc286b-9a7d-43d4-9696-39f6ab2c41ee",
   "metadata": {},
   "source": [
    "## Beste modellen voor elke setting, opslaan van resultaten"
   ]
  },
  {
   "cell_type": "markdown",
   "id": "c09ddf9a-666f-41df-ac96-aaeed88bd2d8",
   "metadata": {},
   "source": [
    "### Image modellen"
   ]
  },
  {
   "cell_type": "code",
   "execution_count": 50,
   "id": "4454f7fa-72c0-4232-b949-4a6179bbd8d1",
   "metadata": {},
   "outputs": [
    {
     "name": "stderr",
     "output_type": "stream",
     "text": [
      "100%|██████████| 34/34 [22:08<00:00, 39.08s/it] \n",
      "100%|██████████| 34/34 [00:04<00:00,  6.90it/s]\n"
     ]
    }
   ],
   "source": [
    "D1_image_k = predict(D1_test, D1_standard_image_vectors, known_k=True, method=\"binary\")\n",
    "D1_image_no_k = predict(D1_test, D1_standard_image_vectors, known_k=False, method=\"bottomup\", penalty=0.5)"
   ]
  },
  {
   "cell_type": "code",
   "execution_count": 58,
   "id": "80c5316c-bc61-4b4d-9cef-d5e77f4aa439",
   "metadata": {},
   "outputs": [],
   "source": [
    "save_json('../experiment_notebooks/experiment_results/RUPTURE-K-IMAGE/D1/predictions.json', D1_image_k)\n",
    "save_json('../experiment_notebooks/experiment_results/RUPTURE-NO-K-IMAGE/D1/predictions.json', D1_image_no_k)"
   ]
  },
  {
   "cell_type": "code",
   "execution_count": 46,
   "id": "4a4f0f4c-55d8-4219-b669-c9f7343afe67",
   "metadata": {},
   "outputs": [
    {
     "name": "stderr",
     "output_type": "stream",
     "text": [
      "100%|██████████| 108/108 [00:11<00:00,  9.16it/s]\n",
      "100%|██████████| 108/108 [00:01<00:00, 69.04it/s] \n"
     ]
    }
   ],
   "source": [
    "D2_image_k = predict(D2_test, D2_standard_image_vectors, known_k=True, method=\"dynamic\")\n",
    "D2_image_no_k = predict(D2_test, D2_standard_image_vectors, known_k=False, method=\"pelt\", penalty=0.5)"
   ]
  },
  {
   "cell_type": "code",
   "execution_count": 59,
   "id": "f27d9af8-c2ec-4d37-a607-f9d3bd48269b",
   "metadata": {},
   "outputs": [],
   "source": [
    "save_json('../experiment_notebooks/experiment_results/RUPTURE-K-IMAGE/D2/predictions.json', D2_image_k)\n",
    "save_json('../experiment_notebooks/experiment_results/RUPTURE-NO-K-IMAGE/D2/predictions.json', D2_image_no_k)"
   ]
  },
  {
   "cell_type": "markdown",
   "id": "236e47d5-c0cb-483a-8015-9b106c384df4",
   "metadata": {},
   "source": [
    "### Text modellen"
   ]
  },
  {
   "cell_type": "code",
   "execution_count": 49,
   "id": "92e8baf1-c523-42f5-a5b8-55669f51094c",
   "metadata": {},
   "outputs": [
    {
     "name": "stderr",
     "output_type": "stream",
     "text": [
      "100%|██████████| 34/34 [00:54<00:00,  1.60s/it]\n",
      "100%|██████████| 34/34 [00:04<00:00,  7.55it/s]\n"
     ]
    }
   ],
   "source": [
    "D1_text_k = predict(D1_test, D1_standard_text_vectors, known_k=True, method=\"dynamic\")\n",
    "D1_text_no_k = predict(D1_test, D1_standard_text_vectors, known_k=False, method=\"bottomup\", penalty=0.5)"
   ]
  },
  {
   "cell_type": "code",
   "execution_count": 60,
   "id": "e2776e46-e1b0-42fb-8444-3469bc38d3f8",
   "metadata": {},
   "outputs": [],
   "source": [
    "save_json('../experiment_notebooks/experiment_results/RUPTURE-K-TEXT/D1/predictions.json', D1_text_k)\n",
    "save_json('../experiment_notebooks/experiment_results/RUPTURE-NO-K-TEXT/D1/predictions.json', D1_text_no_k)"
   ]
  },
  {
   "cell_type": "code",
   "execution_count": 48,
   "id": "a9b3fded-3c91-4f1f-9f51-d8852c5fbeb0",
   "metadata": {},
   "outputs": [
    {
     "name": "stderr",
     "output_type": "stream",
     "text": [
      "100%|██████████| 108/108 [00:02<00:00, 49.42it/s]\n",
      "100%|██████████| 108/108 [00:00<00:00, 142.90it/s]\n"
     ]
    }
   ],
   "source": [
    "D2_text_k = predict(D2_test, D2_standard_text_vectors, known_k=True, method=\"bottomup\")\n",
    "D2_text_no_k = predict(D2_test, D2_standard_text_vectors, known_k=False, method=\"pelt\", penalty=0.5)"
   ]
  },
  {
   "cell_type": "code",
   "execution_count": 61,
   "id": "c0cb582c-471d-40b9-9a6d-b5279cf7b544",
   "metadata": {},
   "outputs": [],
   "source": [
    "save_json('../experiment_notebooks/experiment_results/RUPTURE-K-TEXT/D2/predictions.json', D2_text_k)\n",
    "save_json('../experiment_notebooks/experiment_results/RUPTURE-NO-K-TEXT/D2/predictions.json', D2_text_no_k)"
   ]
  },
  {
   "cell_type": "code",
   "execution_count": 64,
   "id": "c92dd561-8e6c-4a6c-8677-4d4c9a3cdb32",
   "metadata": {},
   "outputs": [
    {
     "data": {
      "text/html": [
       "<div>\n",
       "<style scoped>\n",
       "    .dataframe tbody tr th:only-of-type {\n",
       "        vertical-align: middle;\n",
       "    }\n",
       "\n",
       "    .dataframe tbody tr th {\n",
       "        vertical-align: top;\n",
       "    }\n",
       "\n",
       "    .dataframe thead th {\n",
       "        text-align: right;\n",
       "    }\n",
       "</style>\n",
       "<table border=\"1\" class=\"dataframe\">\n",
       "  <thead>\n",
       "    <tr style=\"text-align: right;\">\n",
       "      <th></th>\n",
       "      <th>precision</th>\n",
       "      <th>recall</th>\n",
       "      <th>F1</th>\n",
       "      <th>support</th>\n",
       "      <th>CI Precision</th>\n",
       "      <th>CI Recall</th>\n",
       "      <th>CI F1</th>\n",
       "    </tr>\n",
       "  </thead>\n",
       "  <tbody>\n",
       "    <tr>\n",
       "      <th>Accuracy</th>\n",
       "      <td>0.67</td>\n",
       "      <td>0.67</td>\n",
       "      <td>0.67</td>\n",
       "      <td>6347</td>\n",
       "      <td>0.66-0.68</td>\n",
       "      <td>0.66-0.68</td>\n",
       "      <td>0.66-0.68</td>\n",
       "    </tr>\n",
       "    <tr>\n",
       "      <th>Boundary</th>\n",
       "      <td>0.49</td>\n",
       "      <td>0.49</td>\n",
       "      <td>0.49</td>\n",
       "      <td>6347</td>\n",
       "      <td>0.48-0.5</td>\n",
       "      <td>0.48-0.5</td>\n",
       "      <td>0.48-0.5</td>\n",
       "    </tr>\n",
       "    <tr>\n",
       "      <th>WindowDiff</th>\n",
       "      <td>0.32</td>\n",
       "      <td>0.32</td>\n",
       "      <td>0.32</td>\n",
       "      <td>6347</td>\n",
       "      <td>0.31-0.33</td>\n",
       "      <td>0.31-0.33</td>\n",
       "      <td>0.31-0.33</td>\n",
       "    </tr>\n",
       "    <tr>\n",
       "      <th>PQ</th>\n",
       "      <td>0.26</td>\n",
       "      <td>0.26</td>\n",
       "      <td>0.26</td>\n",
       "      <td>6347</td>\n",
       "      <td>0.25-0.27</td>\n",
       "      <td>0.25-0.27</td>\n",
       "      <td>0.25-0.27</td>\n",
       "    </tr>\n",
       "  </tbody>\n",
       "</table>\n",
       "</div>"
      ],
      "text/plain": [
       "            precision  recall    F1  support CI Precision  CI Recall  \\\n",
       "Accuracy         0.67    0.67  0.67     6347    0.66-0.68  0.66-0.68   \n",
       "Boundary         0.49    0.49  0.49     6347     0.48-0.5   0.48-0.5   \n",
       "WindowDiff       0.32    0.32  0.32     6347    0.31-0.33  0.31-0.33   \n",
       "PQ               0.26    0.26  0.26     6347    0.25-0.27  0.25-0.27   \n",
       "\n",
       "                CI F1  \n",
       "Accuracy    0.66-0.68  \n",
       "Boundary     0.48-0.5  \n",
       "WindowDiff  0.31-0.33  \n",
       "PQ          0.25-0.27  "
      ]
     },
     "execution_count": 64,
     "metadata": {},
     "output_type": "execute_result"
    }
   ],
   "source": [
    "evaluation_report(get_ground_truth_from_dataframe(D1_test, col='label'), D1_image_k)"
   ]
  },
  {
   "cell_type": "code",
   "execution_count": 65,
   "id": "62faa5dd-0a24-4e26-81a2-615ccb25f0b4",
   "metadata": {},
   "outputs": [
    {
     "data": {
      "text/html": [
       "<div>\n",
       "<style scoped>\n",
       "    .dataframe tbody tr th:only-of-type {\n",
       "        vertical-align: middle;\n",
       "    }\n",
       "\n",
       "    .dataframe tbody tr th {\n",
       "        vertical-align: top;\n",
       "    }\n",
       "\n",
       "    .dataframe thead th {\n",
       "        text-align: right;\n",
       "    }\n",
       "</style>\n",
       "<table border=\"1\" class=\"dataframe\">\n",
       "  <thead>\n",
       "    <tr style=\"text-align: right;\">\n",
       "      <th></th>\n",
       "      <th>precision</th>\n",
       "      <th>recall</th>\n",
       "      <th>F1</th>\n",
       "      <th>support</th>\n",
       "      <th>CI Precision</th>\n",
       "      <th>CI Recall</th>\n",
       "      <th>CI F1</th>\n",
       "    </tr>\n",
       "  </thead>\n",
       "  <tbody>\n",
       "    <tr>\n",
       "      <th>Accuracy</th>\n",
       "      <td>0.33</td>\n",
       "      <td>0.33</td>\n",
       "      <td>0.33</td>\n",
       "      <td>6347</td>\n",
       "      <td>0.32-0.34</td>\n",
       "      <td>0.32-0.34</td>\n",
       "      <td>0.32-0.34</td>\n",
       "    </tr>\n",
       "    <tr>\n",
       "      <th>Boundary</th>\n",
       "      <td>0.33</td>\n",
       "      <td>1.00</td>\n",
       "      <td>0.47</td>\n",
       "      <td>6347</td>\n",
       "      <td>0.32-0.34</td>\n",
       "      <td>1.0-1.0</td>\n",
       "      <td>0.46-0.48</td>\n",
       "    </tr>\n",
       "    <tr>\n",
       "      <th>WindowDiff</th>\n",
       "      <td>0.67</td>\n",
       "      <td>0.67</td>\n",
       "      <td>0.67</td>\n",
       "      <td>6347</td>\n",
       "      <td>0.66-0.68</td>\n",
       "      <td>0.66-0.68</td>\n",
       "      <td>0.66-0.68</td>\n",
       "    </tr>\n",
       "    <tr>\n",
       "      <th>PQ</th>\n",
       "      <td>0.35</td>\n",
       "      <td>0.18</td>\n",
       "      <td>0.14</td>\n",
       "      <td>6347</td>\n",
       "      <td>0.34-0.36</td>\n",
       "      <td>0.18-0.18</td>\n",
       "      <td>0.14-0.14</td>\n",
       "    </tr>\n",
       "  </tbody>\n",
       "</table>\n",
       "</div>"
      ],
      "text/plain": [
       "            precision  recall    F1  support CI Precision  CI Recall  \\\n",
       "Accuracy         0.33    0.33  0.33     6347    0.32-0.34  0.32-0.34   \n",
       "Boundary         0.33    1.00  0.47     6347    0.32-0.34    1.0-1.0   \n",
       "WindowDiff       0.67    0.67  0.67     6347    0.66-0.68  0.66-0.68   \n",
       "PQ               0.35    0.18  0.14     6347    0.34-0.36  0.18-0.18   \n",
       "\n",
       "                CI F1  \n",
       "Accuracy    0.32-0.34  \n",
       "Boundary    0.46-0.48  \n",
       "WindowDiff  0.66-0.68  \n",
       "PQ          0.14-0.14  "
      ]
     },
     "execution_count": 65,
     "metadata": {},
     "output_type": "execute_result"
    }
   ],
   "source": [
    "evaluation_report(get_ground_truth_from_dataframe(D1_test, col='label'), D1_image_no_k)"
   ]
  },
  {
   "cell_type": "code",
   "execution_count": 66,
   "id": "208f6c17-798e-490a-94f5-018f003b05d4",
   "metadata": {},
   "outputs": [
    {
     "data": {
      "text/html": [
       "<div>\n",
       "<style scoped>\n",
       "    .dataframe tbody tr th:only-of-type {\n",
       "        vertical-align: middle;\n",
       "    }\n",
       "\n",
       "    .dataframe tbody tr th {\n",
       "        vertical-align: top;\n",
       "    }\n",
       "\n",
       "    .dataframe thead th {\n",
       "        text-align: right;\n",
       "    }\n",
       "</style>\n",
       "<table border=\"1\" class=\"dataframe\">\n",
       "  <thead>\n",
       "    <tr style=\"text-align: right;\">\n",
       "      <th></th>\n",
       "      <th>precision</th>\n",
       "      <th>recall</th>\n",
       "      <th>F1</th>\n",
       "      <th>support</th>\n",
       "      <th>CI Precision</th>\n",
       "      <th>CI Recall</th>\n",
       "      <th>CI F1</th>\n",
       "    </tr>\n",
       "  </thead>\n",
       "  <tbody>\n",
       "    <tr>\n",
       "      <th>Accuracy</th>\n",
       "      <td>0.79</td>\n",
       "      <td>0.79</td>\n",
       "      <td>0.79</td>\n",
       "      <td>1404</td>\n",
       "      <td>0.77-0.81</td>\n",
       "      <td>0.77-0.81</td>\n",
       "      <td>0.77-0.81</td>\n",
       "    </tr>\n",
       "    <tr>\n",
       "      <th>Boundary</th>\n",
       "      <td>0.53</td>\n",
       "      <td>0.53</td>\n",
       "      <td>0.53</td>\n",
       "      <td>1404</td>\n",
       "      <td>0.5-0.56</td>\n",
       "      <td>0.5-0.56</td>\n",
       "      <td>0.5-0.56</td>\n",
       "    </tr>\n",
       "    <tr>\n",
       "      <th>WindowDiff</th>\n",
       "      <td>0.31</td>\n",
       "      <td>0.31</td>\n",
       "      <td>0.31</td>\n",
       "      <td>1404</td>\n",
       "      <td>0.28-0.34</td>\n",
       "      <td>0.28-0.34</td>\n",
       "      <td>0.28-0.34</td>\n",
       "    </tr>\n",
       "    <tr>\n",
       "      <th>PQ</th>\n",
       "      <td>0.41</td>\n",
       "      <td>0.41</td>\n",
       "      <td>0.41</td>\n",
       "      <td>1404</td>\n",
       "      <td>0.38-0.44</td>\n",
       "      <td>0.38-0.44</td>\n",
       "      <td>0.38-0.44</td>\n",
       "    </tr>\n",
       "  </tbody>\n",
       "</table>\n",
       "</div>"
      ],
      "text/plain": [
       "            precision  recall    F1  support CI Precision  CI Recall  \\\n",
       "Accuracy         0.79    0.79  0.79     1404    0.77-0.81  0.77-0.81   \n",
       "Boundary         0.53    0.53  0.53     1404     0.5-0.56   0.5-0.56   \n",
       "WindowDiff       0.31    0.31  0.31     1404    0.28-0.34  0.28-0.34   \n",
       "PQ               0.41    0.41  0.41     1404    0.38-0.44  0.38-0.44   \n",
       "\n",
       "                CI F1  \n",
       "Accuracy    0.77-0.81  \n",
       "Boundary     0.5-0.56  \n",
       "WindowDiff  0.28-0.34  \n",
       "PQ          0.38-0.44  "
      ]
     },
     "execution_count": 66,
     "metadata": {},
     "output_type": "execute_result"
    }
   ],
   "source": [
    "evaluation_report(get_ground_truth_from_dataframe(D2_test, col='label'), D2_image_k)"
   ]
  },
  {
   "cell_type": "code",
   "execution_count": 67,
   "id": "7abed54a-57a9-4ac2-bca5-828db60b545b",
   "metadata": {},
   "outputs": [
    {
     "data": {
      "text/html": [
       "<div>\n",
       "<style scoped>\n",
       "    .dataframe tbody tr th:only-of-type {\n",
       "        vertical-align: middle;\n",
       "    }\n",
       "\n",
       "    .dataframe tbody tr th {\n",
       "        vertical-align: top;\n",
       "    }\n",
       "\n",
       "    .dataframe thead th {\n",
       "        text-align: right;\n",
       "    }\n",
       "</style>\n",
       "<table border=\"1\" class=\"dataframe\">\n",
       "  <thead>\n",
       "    <tr style=\"text-align: right;\">\n",
       "      <th></th>\n",
       "      <th>precision</th>\n",
       "      <th>recall</th>\n",
       "      <th>F1</th>\n",
       "      <th>support</th>\n",
       "      <th>CI Precision</th>\n",
       "      <th>CI Recall</th>\n",
       "      <th>CI F1</th>\n",
       "    </tr>\n",
       "  </thead>\n",
       "  <tbody>\n",
       "    <tr>\n",
       "      <th>Accuracy</th>\n",
       "      <td>0.78</td>\n",
       "      <td>0.78</td>\n",
       "      <td>0.78</td>\n",
       "      <td>1404</td>\n",
       "      <td>0.76-0.8</td>\n",
       "      <td>0.76-0.8</td>\n",
       "      <td>0.76-0.8</td>\n",
       "    </tr>\n",
       "    <tr>\n",
       "      <th>Boundary</th>\n",
       "      <td>0.57</td>\n",
       "      <td>0.50</td>\n",
       "      <td>0.46</td>\n",
       "      <td>1404</td>\n",
       "      <td>0.55-0.59</td>\n",
       "      <td>0.48-0.52</td>\n",
       "      <td>0.44-0.48</td>\n",
       "    </tr>\n",
       "    <tr>\n",
       "      <th>WindowDiff</th>\n",
       "      <td>0.38</td>\n",
       "      <td>0.38</td>\n",
       "      <td>0.38</td>\n",
       "      <td>1404</td>\n",
       "      <td>0.36-0.4</td>\n",
       "      <td>0.36-0.4</td>\n",
       "      <td>0.36-0.4</td>\n",
       "    </tr>\n",
       "    <tr>\n",
       "      <th>PQ</th>\n",
       "      <td>0.31</td>\n",
       "      <td>0.30</td>\n",
       "      <td>0.33</td>\n",
       "      <td>1404</td>\n",
       "      <td>0.29-0.33</td>\n",
       "      <td>0.28-0.32</td>\n",
       "      <td>0.31-0.35</td>\n",
       "    </tr>\n",
       "  </tbody>\n",
       "</table>\n",
       "</div>"
      ],
      "text/plain": [
       "            precision  recall    F1  support CI Precision  CI Recall  \\\n",
       "Accuracy         0.78    0.78  0.78     1404     0.76-0.8   0.76-0.8   \n",
       "Boundary         0.57    0.50  0.46     1404    0.55-0.59  0.48-0.52   \n",
       "WindowDiff       0.38    0.38  0.38     1404     0.36-0.4   0.36-0.4   \n",
       "PQ               0.31    0.30  0.33     1404    0.29-0.33  0.28-0.32   \n",
       "\n",
       "                CI F1  \n",
       "Accuracy     0.76-0.8  \n",
       "Boundary    0.44-0.48  \n",
       "WindowDiff   0.36-0.4  \n",
       "PQ          0.31-0.35  "
      ]
     },
     "execution_count": 67,
     "metadata": {},
     "output_type": "execute_result"
    }
   ],
   "source": [
    "evaluation_report(get_ground_truth_from_dataframe(D2_test, col='label'), D2_image_no_k)"
   ]
  },
  {
   "cell_type": "markdown",
   "id": "68d3ebae-198b-4b8e-b1ef-d656ffd35fb7",
   "metadata": {},
   "source": [
    "### Text"
   ]
  },
  {
   "cell_type": "code",
   "execution_count": 68,
   "id": "dbca47c3-f879-4159-8e5e-ef74a179134c",
   "metadata": {},
   "outputs": [
    {
     "data": {
      "text/html": [
       "<div>\n",
       "<style scoped>\n",
       "    .dataframe tbody tr th:only-of-type {\n",
       "        vertical-align: middle;\n",
       "    }\n",
       "\n",
       "    .dataframe tbody tr th {\n",
       "        vertical-align: top;\n",
       "    }\n",
       "\n",
       "    .dataframe thead th {\n",
       "        text-align: right;\n",
       "    }\n",
       "</style>\n",
       "<table border=\"1\" class=\"dataframe\">\n",
       "  <thead>\n",
       "    <tr style=\"text-align: right;\">\n",
       "      <th></th>\n",
       "      <th>precision</th>\n",
       "      <th>recall</th>\n",
       "      <th>F1</th>\n",
       "      <th>support</th>\n",
       "      <th>CI Precision</th>\n",
       "      <th>CI Recall</th>\n",
       "      <th>CI F1</th>\n",
       "    </tr>\n",
       "  </thead>\n",
       "  <tbody>\n",
       "    <tr>\n",
       "      <th>Accuracy</th>\n",
       "      <td>0.69</td>\n",
       "      <td>0.69</td>\n",
       "      <td>0.69</td>\n",
       "      <td>6347</td>\n",
       "      <td>0.68-0.7</td>\n",
       "      <td>0.68-0.7</td>\n",
       "      <td>0.68-0.7</td>\n",
       "    </tr>\n",
       "    <tr>\n",
       "      <th>Boundary</th>\n",
       "      <td>0.48</td>\n",
       "      <td>0.48</td>\n",
       "      <td>0.48</td>\n",
       "      <td>6347</td>\n",
       "      <td>0.47-0.49</td>\n",
       "      <td>0.47-0.49</td>\n",
       "      <td>0.47-0.49</td>\n",
       "    </tr>\n",
       "    <tr>\n",
       "      <th>WindowDiff</th>\n",
       "      <td>0.32</td>\n",
       "      <td>0.32</td>\n",
       "      <td>0.32</td>\n",
       "      <td>6347</td>\n",
       "      <td>0.31-0.33</td>\n",
       "      <td>0.31-0.33</td>\n",
       "      <td>0.31-0.33</td>\n",
       "    </tr>\n",
       "    <tr>\n",
       "      <th>PQ</th>\n",
       "      <td>0.28</td>\n",
       "      <td>0.28</td>\n",
       "      <td>0.28</td>\n",
       "      <td>6347</td>\n",
       "      <td>0.27-0.29</td>\n",
       "      <td>0.27-0.29</td>\n",
       "      <td>0.27-0.29</td>\n",
       "    </tr>\n",
       "  </tbody>\n",
       "</table>\n",
       "</div>"
      ],
      "text/plain": [
       "            precision  recall    F1  support CI Precision  CI Recall  \\\n",
       "Accuracy         0.69    0.69  0.69     6347     0.68-0.7   0.68-0.7   \n",
       "Boundary         0.48    0.48  0.48     6347    0.47-0.49  0.47-0.49   \n",
       "WindowDiff       0.32    0.32  0.32     6347    0.31-0.33  0.31-0.33   \n",
       "PQ               0.28    0.28  0.28     6347    0.27-0.29  0.27-0.29   \n",
       "\n",
       "                CI F1  \n",
       "Accuracy     0.68-0.7  \n",
       "Boundary    0.47-0.49  \n",
       "WindowDiff  0.31-0.33  \n",
       "PQ          0.27-0.29  "
      ]
     },
     "execution_count": 68,
     "metadata": {},
     "output_type": "execute_result"
    }
   ],
   "source": [
    "evaluation_report(get_ground_truth_from_dataframe(D1_test, col='label'), D1_text_k)"
   ]
  },
  {
   "cell_type": "code",
   "execution_count": 69,
   "id": "72feb082-e55e-448e-9641-906be570fda3",
   "metadata": {},
   "outputs": [
    {
     "data": {
      "text/html": [
       "<div>\n",
       "<style scoped>\n",
       "    .dataframe tbody tr th:only-of-type {\n",
       "        vertical-align: middle;\n",
       "    }\n",
       "\n",
       "    .dataframe tbody tr th {\n",
       "        vertical-align: top;\n",
       "    }\n",
       "\n",
       "    .dataframe thead th {\n",
       "        text-align: right;\n",
       "    }\n",
       "</style>\n",
       "<table border=\"1\" class=\"dataframe\">\n",
       "  <thead>\n",
       "    <tr style=\"text-align: right;\">\n",
       "      <th></th>\n",
       "      <th>precision</th>\n",
       "      <th>recall</th>\n",
       "      <th>F1</th>\n",
       "      <th>support</th>\n",
       "      <th>CI Precision</th>\n",
       "      <th>CI Recall</th>\n",
       "      <th>CI F1</th>\n",
       "    </tr>\n",
       "  </thead>\n",
       "  <tbody>\n",
       "    <tr>\n",
       "      <th>Accuracy</th>\n",
       "      <td>0.33</td>\n",
       "      <td>0.33</td>\n",
       "      <td>0.33</td>\n",
       "      <td>6347</td>\n",
       "      <td>0.32-0.34</td>\n",
       "      <td>0.32-0.34</td>\n",
       "      <td>0.32-0.34</td>\n",
       "    </tr>\n",
       "    <tr>\n",
       "      <th>Boundary</th>\n",
       "      <td>0.33</td>\n",
       "      <td>1.00</td>\n",
       "      <td>0.47</td>\n",
       "      <td>6347</td>\n",
       "      <td>0.32-0.34</td>\n",
       "      <td>1.0-1.0</td>\n",
       "      <td>0.46-0.48</td>\n",
       "    </tr>\n",
       "    <tr>\n",
       "      <th>WindowDiff</th>\n",
       "      <td>0.67</td>\n",
       "      <td>0.67</td>\n",
       "      <td>0.67</td>\n",
       "      <td>6347</td>\n",
       "      <td>0.66-0.68</td>\n",
       "      <td>0.66-0.68</td>\n",
       "      <td>0.66-0.68</td>\n",
       "    </tr>\n",
       "    <tr>\n",
       "      <th>PQ</th>\n",
       "      <td>0.34</td>\n",
       "      <td>0.18</td>\n",
       "      <td>0.13</td>\n",
       "      <td>6347</td>\n",
       "      <td>0.33-0.35</td>\n",
       "      <td>0.18-0.18</td>\n",
       "      <td>0.13-0.13</td>\n",
       "    </tr>\n",
       "  </tbody>\n",
       "</table>\n",
       "</div>"
      ],
      "text/plain": [
       "            precision  recall    F1  support CI Precision  CI Recall  \\\n",
       "Accuracy         0.33    0.33  0.33     6347    0.32-0.34  0.32-0.34   \n",
       "Boundary         0.33    1.00  0.47     6347    0.32-0.34    1.0-1.0   \n",
       "WindowDiff       0.67    0.67  0.67     6347    0.66-0.68  0.66-0.68   \n",
       "PQ               0.34    0.18  0.13     6347    0.33-0.35  0.18-0.18   \n",
       "\n",
       "                CI F1  \n",
       "Accuracy    0.32-0.34  \n",
       "Boundary    0.46-0.48  \n",
       "WindowDiff  0.66-0.68  \n",
       "PQ          0.13-0.13  "
      ]
     },
     "execution_count": 69,
     "metadata": {},
     "output_type": "execute_result"
    }
   ],
   "source": [
    "evaluation_report(get_ground_truth_from_dataframe(D1_test, col='label'), D1_text_no_k)"
   ]
  },
  {
   "cell_type": "code",
   "execution_count": 70,
   "id": "9e45bf12-3f12-44f8-aeed-4fb02ee377c9",
   "metadata": {},
   "outputs": [
    {
     "data": {
      "text/html": [
       "<div>\n",
       "<style scoped>\n",
       "    .dataframe tbody tr th:only-of-type {\n",
       "        vertical-align: middle;\n",
       "    }\n",
       "\n",
       "    .dataframe tbody tr th {\n",
       "        vertical-align: top;\n",
       "    }\n",
       "\n",
       "    .dataframe thead th {\n",
       "        text-align: right;\n",
       "    }\n",
       "</style>\n",
       "<table border=\"1\" class=\"dataframe\">\n",
       "  <thead>\n",
       "    <tr style=\"text-align: right;\">\n",
       "      <th></th>\n",
       "      <th>precision</th>\n",
       "      <th>recall</th>\n",
       "      <th>F1</th>\n",
       "      <th>support</th>\n",
       "      <th>CI Precision</th>\n",
       "      <th>CI Recall</th>\n",
       "      <th>CI F1</th>\n",
       "    </tr>\n",
       "  </thead>\n",
       "  <tbody>\n",
       "    <tr>\n",
       "      <th>Accuracy</th>\n",
       "      <td>0.81</td>\n",
       "      <td>0.81</td>\n",
       "      <td>0.81</td>\n",
       "      <td>1404</td>\n",
       "      <td>0.79-0.83</td>\n",
       "      <td>0.79-0.83</td>\n",
       "      <td>0.79-0.83</td>\n",
       "    </tr>\n",
       "    <tr>\n",
       "      <th>Boundary</th>\n",
       "      <td>0.55</td>\n",
       "      <td>0.55</td>\n",
       "      <td>0.55</td>\n",
       "      <td>1404</td>\n",
       "      <td>0.52-0.58</td>\n",
       "      <td>0.52-0.58</td>\n",
       "      <td>0.52-0.58</td>\n",
       "    </tr>\n",
       "    <tr>\n",
       "      <th>WindowDiff</th>\n",
       "      <td>0.28</td>\n",
       "      <td>0.28</td>\n",
       "      <td>0.28</td>\n",
       "      <td>1404</td>\n",
       "      <td>0.26-0.3</td>\n",
       "      <td>0.26-0.3</td>\n",
       "      <td>0.26-0.3</td>\n",
       "    </tr>\n",
       "    <tr>\n",
       "      <th>PQ</th>\n",
       "      <td>0.44</td>\n",
       "      <td>0.44</td>\n",
       "      <td>0.44</td>\n",
       "      <td>1404</td>\n",
       "      <td>0.41-0.47</td>\n",
       "      <td>0.41-0.47</td>\n",
       "      <td>0.41-0.47</td>\n",
       "    </tr>\n",
       "  </tbody>\n",
       "</table>\n",
       "</div>"
      ],
      "text/plain": [
       "            precision  recall    F1  support CI Precision  CI Recall  \\\n",
       "Accuracy         0.81    0.81  0.81     1404    0.79-0.83  0.79-0.83   \n",
       "Boundary         0.55    0.55  0.55     1404    0.52-0.58  0.52-0.58   \n",
       "WindowDiff       0.28    0.28  0.28     1404     0.26-0.3   0.26-0.3   \n",
       "PQ               0.44    0.44  0.44     1404    0.41-0.47  0.41-0.47   \n",
       "\n",
       "                CI F1  \n",
       "Accuracy    0.79-0.83  \n",
       "Boundary    0.52-0.58  \n",
       "WindowDiff   0.26-0.3  \n",
       "PQ          0.41-0.47  "
      ]
     },
     "execution_count": 70,
     "metadata": {},
     "output_type": "execute_result"
    }
   ],
   "source": [
    "evaluation_report(get_ground_truth_from_dataframe(D2_test, col='label'), D2_text_k)"
   ]
  },
  {
   "cell_type": "code",
   "execution_count": 71,
   "id": "4cc7fed3-708b-4d34-9db5-0b14e4a753a7",
   "metadata": {},
   "outputs": [
    {
     "data": {
      "text/html": [
       "<div>\n",
       "<style scoped>\n",
       "    .dataframe tbody tr th:only-of-type {\n",
       "        vertical-align: middle;\n",
       "    }\n",
       "\n",
       "    .dataframe tbody tr th {\n",
       "        vertical-align: top;\n",
       "    }\n",
       "\n",
       "    .dataframe thead th {\n",
       "        text-align: right;\n",
       "    }\n",
       "</style>\n",
       "<table border=\"1\" class=\"dataframe\">\n",
       "  <thead>\n",
       "    <tr style=\"text-align: right;\">\n",
       "      <th></th>\n",
       "      <th>precision</th>\n",
       "      <th>recall</th>\n",
       "      <th>F1</th>\n",
       "      <th>support</th>\n",
       "      <th>CI Precision</th>\n",
       "      <th>CI Recall</th>\n",
       "      <th>CI F1</th>\n",
       "    </tr>\n",
       "  </thead>\n",
       "  <tbody>\n",
       "    <tr>\n",
       "      <th>Accuracy</th>\n",
       "      <td>0.81</td>\n",
       "      <td>0.81</td>\n",
       "      <td>0.81</td>\n",
       "      <td>1404</td>\n",
       "      <td>0.77-0.85</td>\n",
       "      <td>0.77-0.85</td>\n",
       "      <td>0.77-0.85</td>\n",
       "    </tr>\n",
       "    <tr>\n",
       "      <th>Boundary</th>\n",
       "      <td>0.73</td>\n",
       "      <td>0.35</td>\n",
       "      <td>0.42</td>\n",
       "      <td>1404</td>\n",
       "      <td>0.69-0.77</td>\n",
       "      <td>0.3-0.4</td>\n",
       "      <td>0.37-0.47</td>\n",
       "    </tr>\n",
       "    <tr>\n",
       "      <th>WindowDiff</th>\n",
       "      <td>0.31</td>\n",
       "      <td>0.31</td>\n",
       "      <td>0.31</td>\n",
       "      <td>1404</td>\n",
       "      <td>0.26-0.36</td>\n",
       "      <td>0.26-0.36</td>\n",
       "      <td>0.26-0.36</td>\n",
       "    </tr>\n",
       "    <tr>\n",
       "      <th>PQ</th>\n",
       "      <td>0.19</td>\n",
       "      <td>0.22</td>\n",
       "      <td>0.32</td>\n",
       "      <td>1404</td>\n",
       "      <td>0.15-0.23</td>\n",
       "      <td>0.18-0.26</td>\n",
       "      <td>0.27-0.37</td>\n",
       "    </tr>\n",
       "  </tbody>\n",
       "</table>\n",
       "</div>"
      ],
      "text/plain": [
       "            precision  recall    F1  support CI Precision  CI Recall  \\\n",
       "Accuracy         0.81    0.81  0.81     1404    0.77-0.85  0.77-0.85   \n",
       "Boundary         0.73    0.35  0.42     1404    0.69-0.77    0.3-0.4   \n",
       "WindowDiff       0.31    0.31  0.31     1404    0.26-0.36  0.26-0.36   \n",
       "PQ               0.19    0.22  0.32     1404    0.15-0.23  0.18-0.26   \n",
       "\n",
       "                CI F1  \n",
       "Accuracy    0.77-0.85  \n",
       "Boundary    0.37-0.47  \n",
       "WindowDiff  0.26-0.36  \n",
       "PQ          0.27-0.37  "
      ]
     },
     "execution_count": 71,
     "metadata": {},
     "output_type": "execute_result"
    }
   ],
   "source": [
    "evaluation_report(get_ground_truth_from_dataframe(D2_test, col='label'), D2_text_no_k)"
   ]
  },
  {
   "cell_type": "code",
   "execution_count": 36,
   "id": "8e8baaf6-3b9d-4dd3-9519-3130649cf561",
   "metadata": {},
   "outputs": [],
   "source": [
    "from sklearn.preprocessing import normalize\n",
    "\n",
    "def calculate_vector_similarities(vector_matrix):\n",
    "    normalized_vectors = normalize(vector_matrix)\n",
    "    similarities = normalized_vectors @ normalized_vectors.T\n",
    "    next_page_sim = np.diag(similarities, k=2)\n",
    "    return next_page_sim\n",
    "\n",
    "\n",
    "#D1_standard_image_vectors"
   ]
  },
  {
   "cell_type": "code",
   "execution_count": 37,
   "id": "5c991d62-147d-454a-afc2-37fbfba839cf",
   "metadata": {},
   "outputs": [],
   "source": [
    "def get_similarity_distribution(data_dict: dict):\n",
    "    all_sims = []\n",
    "    for key, value in data_dict.items():\n",
    "        stream_sims = calculate_vector_similarities(value)\n",
    "        all_sims.extend(stream_sims)\n",
    "    return all_sims"
   ]
  },
  {
   "cell_type": "code",
   "execution_count": 38,
   "id": "a078a004-27cd-44bb-9921-9684706e4fc8",
   "metadata": {},
   "outputs": [],
   "source": [
    "import matplotlib.pyplot as plt"
   ]
  },
  {
   "cell_type": "code",
   "execution_count": 40,
   "id": "4abda506-bc72-48d9-9b35-589de00ccc2e",
   "metadata": {},
   "outputs": [
    {
     "data": {
      "image/png": "[encoded data removed]",
      "text/plain": [
       "<Figure size 640x480 with 1 Axes>"
      ]
     },
     "metadata": {},
     "output_type": "display_data"
    }
   ],
   "source": [
    "all_sims_image_D1 = get_similarity_distribution(D1_standard_image_vectors)\n",
    "pd.Series(all_sims_image_D1).plot(kind='kde')\n",
    "plt.show()"
   ]
  },
  {
   "cell_type": "code",
   "execution_count": null,
   "id": "cba6e2c2-d981-42eb-88bf-8fd1f178409e",
   "metadata": {},
   "outputs": [],
   "source": []
  }
 ],
 "metadata": {
  "kernelspec": {
   "display_name": "DutchRoberta",
   "language": "python",
   "name": "dutchroberta"
  },
  "language_info": {
   "codemirror_mode": {
    "name": "ipython",
    "version": 3
   },
   "file_extension": ".py",
   "mimetype": "text/x-python",
   "name": "python",
   "nbconvert_exporter": "python",
   "pygments_lexer": "ipython3",
   "version": "3.9.12"
  }
 },
 "nbformat": 4,
 "nbformat_minor": 5
}
